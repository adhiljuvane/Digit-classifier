{
  "nbformat": 4,
  "nbformat_minor": 0,
  "metadata": {
    "colab": {
      "provenance": [],
      "authorship_tag": "ABX9TyNQ5iZut7QeNwEa2GQGzdK4",
      "include_colab_link": true
    },
    "kernelspec": {
      "name": "python3",
      "display_name": "Python 3"
    },
    "language_info": {
      "name": "python"
    }
  },
  "cells": [
    {
      "cell_type": "markdown",
      "metadata": {
        "id": "view-in-github",
        "colab_type": "text"
      },
      "source": [
        "<a href=\"https://colab.research.google.com/github/adhiljuvane/Digit-classifier/blob/main/Digit_Classifier.ipynb\" target=\"_parent\"><img src=\"https://colab.research.google.com/assets/colab-badge.svg\" alt=\"Open In Colab\"/></a>"
      ]
    },
    {
      "cell_type": "code",
      "source": [
        "!pip install fastai"
      ],
      "metadata": {
        "id": "JVo0SMEyuiso"
      },
      "execution_count": null,
      "outputs": []
    },
    {
      "cell_type": "code",
      "source": [
        "from fastai.vision.all import *"
      ],
      "metadata": {
        "id": "kaDYCv2hvV6s"
      },
      "execution_count": 2,
      "outputs": []
    },
    {
      "cell_type": "code",
      "source": [
        "path = untar_data(URLs.MNIST)\n",
        "path"
      ],
      "metadata": {
        "colab": {
          "base_uri": "https://localhost:8080/",
          "height": 54
        },
        "id": "lWuOqGeave9b",
        "outputId": "6dea8b1c-207b-4e29-fbd3-dfd8ac263449"
      },
      "execution_count": 3,
      "outputs": [
        {
          "output_type": "display_data",
          "data": {
            "text/plain": [
              "<IPython.core.display.HTML object>"
            ],
            "text/html": [
              "\n",
              "<style>\n",
              "    /* Turns off some styling */\n",
              "    progress {\n",
              "        /* gets rid of default border in Firefox and Opera. */\n",
              "        border: none;\n",
              "        /* Needs to be in here for Safari polyfill so background images work as expected. */\n",
              "        background-size: auto;\n",
              "    }\n",
              "    progress:not([value]), progress:not([value])::-webkit-progress-bar {\n",
              "        background: repeating-linear-gradient(45deg, #7e7e7e, #7e7e7e 10px, #5c5c5c 10px, #5c5c5c 20px);\n",
              "    }\n",
              "    .progress-bar-interrupted, .progress-bar-interrupted::-webkit-progress-bar {\n",
              "        background: #F44336;\n",
              "    }\n",
              "</style>\n"
            ]
          },
          "metadata": {}
        },
        {
          "output_type": "display_data",
          "data": {
            "text/plain": [
              "<IPython.core.display.HTML object>"
            ],
            "text/html": [
              "\n",
              "    <div>\n",
              "      <progress value='15687680' class='' max='15683414' style='width:300px; height:20px; vertical-align: middle;'></progress>\n",
              "      100.03% [15687680/15683414 00:00&lt;00:00]\n",
              "    </div>\n",
              "    "
            ]
          },
          "metadata": {}
        },
        {
          "output_type": "execute_result",
          "data": {
            "text/plain": [
              "Path('/root/.fastai/data/mnist_png')"
            ]
          },
          "metadata": {},
          "execution_count": 3
        }
      ]
    },
    {
      "cell_type": "code",
      "source": [
        "Path.BASE_PATH = path\n",
        "path"
      ],
      "metadata": {
        "id": "HOTPFkuvvdvU",
        "colab": {
          "base_uri": "https://localhost:8080/"
        },
        "outputId": "56e8bf45-9131-4671-cae7-f5ce140370a5"
      },
      "execution_count": 4,
      "outputs": [
        {
          "output_type": "execute_result",
          "data": {
            "text/plain": [
              "Path('.')"
            ]
          },
          "metadata": {},
          "execution_count": 4
        }
      ]
    },
    {
      "cell_type": "code",
      "source": [
        "(path/'training').ls()"
      ],
      "metadata": {
        "id": "Llj-J_Div6ys",
        "colab": {
          "base_uri": "https://localhost:8080/"
        },
        "outputId": "6c3e90c6-f917-47e1-d7c8-fb028530540e"
      },
      "execution_count": 14,
      "outputs": [
        {
          "output_type": "execute_result",
          "data": {
            "text/plain": [
              "(#10) [Path('training/1'),Path('training/4'),Path('training/9'),Path('training/3'),Path('training/7'),Path('training/2'),Path('training/5'),Path('training/8'),Path('training/0'),Path('training/6')]"
            ]
          },
          "metadata": {},
          "execution_count": 14
        }
      ]
    },
    {
      "cell_type": "code",
      "source": [
        "zeroes = (path/'training'/'0').ls().sorted()\n",
        "ones = (path/'training'/'1').ls().sorted()\n",
        "twos = (path/'training'/'2').ls().sorted()\n",
        "threes = (path/'training'/'3').ls().sorted()\n",
        "fours = (path/'training'/'4').ls().sorted()\n",
        "fives = (path/'training'/'5').ls().sorted()\n",
        "sixes = (path/'training'/'6').ls().sorted()\n",
        "sevens = (path/'training'/'7').ls().sorted()\n",
        "eights = (path/'training'/'8').ls().sorted()\n",
        "nines = (path/'training'/'9').ls().sorted()"
      ],
      "metadata": {
        "id": "k88iomUxwGbh"
      },
      "execution_count": 5,
      "outputs": []
    },
    {
      "cell_type": "code",
      "source": [
        "zeroes"
      ],
      "metadata": {
        "colab": {
          "base_uri": "https://localhost:8080/"
        },
        "id": "B1YK3eocoZVu",
        "outputId": "f974071e-84da-4699-9c22-c9b1f58aa465"
      },
      "execution_count": 6,
      "outputs": [
        {
          "output_type": "execute_result",
          "data": {
            "text/plain": [
              "(#5923) [Path('training/0/1.png'),Path('training/0/1000.png'),Path('training/0/10005.png'),Path('training/0/10010.png'),Path('training/0/10022.png'),Path('training/0/10025.png'),Path('training/0/10026.png'),Path('training/0/10045.png'),Path('training/0/10069.png'),Path('training/0/10071.png')...]"
            ]
          },
          "metadata": {},
          "execution_count": 6
        }
      ]
    },
    {
      "cell_type": "code",
      "source": [
        "im4_path = fours[1]\n",
        "im4 = Image.open(im4_path)\n",
        "im4"
      ],
      "metadata": {
        "colab": {
          "base_uri": "https://localhost:8080/",
          "height": 45
        },
        "id": "Vs7qW6sOwV-S",
        "outputId": "f185ac14-2015-43cd-fe7d-203e78baf1d4"
      },
      "execution_count": 7,
      "outputs": [
        {
          "output_type": "execute_result",
          "data": {
            "text/plain": [
              "<PIL.PngImagePlugin.PngImageFile image mode=L size=28x28>"
            ],
            "image/png": "[encoded data removed]"
          },
          "metadata": {},
          "execution_count": 7
        }
      ]
    },
    {
      "cell_type": "code",
      "source": [
        "tensor(im4)"
      ],
      "metadata": {
        "id": "tQcORBNkriVe"
      },
      "execution_count": null,
      "outputs": []
    },
    {
      "cell_type": "code",
      "source": [
        "im4_t = tensor(im4)\n",
        "df = pd.DataFrame(im4_t)\n",
        "df.style.set_properties(**{'font-size': '6pt'}).background_gradient('Greys')"
      ],
      "metadata": {
        "colab": {
          "base_uri": "https://localhost:8080/",
          "height": 927
        },
        "id": "wdZ1hqQ3wpvX",
        "outputId": "cb6821e6-ea9c-4ba6-f92a-8549ece23704"
      },
      "execution_count": 9,
      "outputs": [
        {
          "output_type": "execute_result",
          "data": {
            "text/plain": [
              "<pandas.io.formats.style.Styler at 0x7fba3a416150>"
            ],
            "text/html": [
              "<style type=\"text/css\">\n",
              "#T_986dc_row0_col0, #T_986dc_row0_col1, #T_986dc_row0_col2, #T_986dc_row0_col3, #T_986dc_row0_col4, #T_986dc_row0_col5, #T_986dc_row0_col6, #T_986dc_row0_col7, #T_986dc_row0_col8, #T_986dc_row0_col9, #T_986dc_row0_col10, #T_986dc_row0_col11, #T_986dc_row0_col12, #T_986dc_row0_col13, #T_986dc_row0_col14, #T_986dc_row0_col15, #T_986dc_row0_col16, #T_986dc_row0_col17, #T_986dc_row0_col18, #T_986dc_row0_col19, #T_986dc_row0_col20, #T_986dc_row0_col21, #T_986dc_row0_col22, #T_986dc_row0_col23, #T_986dc_row0_col24, #T_986dc_row0_col25, #T_986dc_row0_col26, #T_986dc_row0_col27, #T_986dc_row1_col0, #T_986dc_row1_col1, #T_986dc_row1_col2, #T_986dc_row1_col3, #T_986dc_row1_col4, #T_986dc_row1_col5, #T_986dc_row1_col6, #T_986dc_row1_col7, #T_986dc_row1_col8, #T_986dc_row1_col9, #T_986dc_row1_col10, #T_986dc_row1_col11, #T_986dc_row1_col12, #T_986dc_row1_col13, #T_986dc_row1_col14, #T_986dc_row1_col15, #T_986dc_row1_col16, #T_986dc_row1_col17, #T_986dc_row1_col18, #T_986dc_row1_col19, #T_986dc_row1_col20, #T_986dc_row1_col21, #T_986dc_row1_col22, #T_986dc_row1_col23, #T_986dc_row1_col24, #T_986dc_row1_col25, #T_986dc_row1_col26, #T_986dc_row1_col27, #T_986dc_row2_col0, #T_986dc_row2_col1, #T_986dc_row2_col2, #T_986dc_row2_col3, #T_986dc_row2_col4, #T_986dc_row2_col5, #T_986dc_row2_col6, #T_986dc_row2_col7, #T_986dc_row2_col8, #T_986dc_row2_col9, #T_986dc_row2_col10, #T_986dc_row2_col11, #T_986dc_row2_col12, #T_986dc_row2_col13, #T_986dc_row2_col14, #T_986dc_row2_col15, #T_986dc_row2_col16, #T_986dc_row2_col17, #T_986dc_row2_col18, #T_986dc_row2_col19, #T_986dc_row2_col20, #T_986dc_row2_col21, #T_986dc_row2_col22, #T_986dc_row2_col23, #T_986dc_row2_col24, #T_986dc_row2_col25, #T_986dc_row2_col26, #T_986dc_row2_col27, #T_986dc_row3_col0, #T_986dc_row3_col1, #T_986dc_row3_col2, #T_986dc_row3_col3, #T_986dc_row3_col4, #T_986dc_row3_col5, #T_986dc_row3_col6, #T_986dc_row3_col7, #T_986dc_row3_col8, #T_986dc_row3_col9, #T_986dc_row3_col10, #T_986dc_row3_col11, #T_986dc_row3_col12, #T_986dc_row3_col13, #T_986dc_row3_col14, #T_986dc_row3_col15, #T_986dc_row3_col16, #T_986dc_row3_col17, #T_986dc_row3_col18, #T_986dc_row3_col19, #T_986dc_row3_col20, #T_986dc_row3_col21, #T_986dc_row3_col22, #T_986dc_row3_col23, #T_986dc_row3_col24, #T_986dc_row3_col25, #T_986dc_row3_col26, #T_986dc_row3_col27, #T_986dc_row4_col0, #T_986dc_row4_col1, #T_986dc_row4_col2, #T_986dc_row4_col3, #T_986dc_row4_col4, #T_986dc_row4_col5, #T_986dc_row4_col6, #T_986dc_row4_col7, #T_986dc_row4_col8, #T_986dc_row4_col9, #T_986dc_row4_col10, #T_986dc_row4_col11, #T_986dc_row4_col12, #T_986dc_row4_col13, #T_986dc_row4_col14, #T_986dc_row4_col15, #T_986dc_row4_col16, #T_986dc_row4_col17, #T_986dc_row4_col18, #T_986dc_row4_col19, #T_986dc_row4_col20, #T_986dc_row4_col21, #T_986dc_row4_col22, #T_986dc_row4_col23, #T_986dc_row4_col24, #T_986dc_row4_col25, #T_986dc_row4_col26, #T_986dc_row4_col27, #T_986dc_row5_col0, #T_986dc_row5_col1, #T_986dc_row5_col2, #T_986dc_row5_col3, #T_986dc_row5_col4, #T_986dc_row5_col5, #T_986dc_row5_col6, #T_986dc_row5_col7, #T_986dc_row5_col8, #T_986dc_row5_col9, #T_986dc_row5_col12, #T_986dc_row5_col13, #T_986dc_row5_col14, #T_986dc_row5_col17, #T_986dc_row5_col18, #T_986dc_row5_col19, #T_986dc_row5_col20, #T_986dc_row5_col21, #T_986dc_row5_col22, #T_986dc_row5_col23, #T_986dc_row5_col24, #T_986dc_row5_col25, #T_986dc_row5_col26, #T_986dc_row5_col27, #T_986dc_row6_col0, #T_986dc_row6_col1, #T_986dc_row6_col2, #T_986dc_row6_col3, #T_986dc_row6_col4, #T_986dc_row6_col5, #T_986dc_row6_col6, #T_986dc_row6_col7, #T_986dc_row6_col8, #T_986dc_row6_col12, #T_986dc_row6_col13, #T_986dc_row6_col14, #T_986dc_row6_col18, #T_986dc_row6_col19, #T_986dc_row6_col20, #T_986dc_row6_col21, #T_986dc_row6_col22, #T_986dc_row6_col23, #T_986dc_row6_col24, #T_986dc_row6_col25, #T_986dc_row6_col26, #T_986dc_row6_col27, #T_986dc_row7_col0, #T_986dc_row7_col1, #T_986dc_row7_col2, #T_986dc_row7_col3, #T_986dc_row7_col4, #T_986dc_row7_col5, #T_986dc_row7_col6, #T_986dc_row7_col7, #T_986dc_row7_col8, #T_986dc_row7_col12, #T_986dc_row7_col13, #T_986dc_row7_col18, #T_986dc_row7_col19, #T_986dc_row7_col20, #T_986dc_row7_col21, #T_986dc_row7_col22, #T_986dc_row7_col23, #T_986dc_row7_col24, #T_986dc_row7_col25, #T_986dc_row7_col26, #T_986dc_row7_col27, #T_986dc_row8_col0, #T_986dc_row8_col1, #T_986dc_row8_col2, #T_986dc_row8_col3, #T_986dc_row8_col4, #T_986dc_row8_col5, #T_986dc_row8_col6, #T_986dc_row8_col7, #T_986dc_row8_col8, #T_986dc_row8_col13, #T_986dc_row8_col18, #T_986dc_row8_col19, #T_986dc_row8_col20, #T_986dc_row8_col21, #T_986dc_row8_col22, #T_986dc_row8_col23, #T_986dc_row8_col24, #T_986dc_row8_col25, #T_986dc_row8_col26, #T_986dc_row8_col27, #T_986dc_row9_col0, #T_986dc_row9_col1, #T_986dc_row9_col2, #T_986dc_row9_col3, #T_986dc_row9_col4, #T_986dc_row9_col5, #T_986dc_row9_col6, #T_986dc_row9_col7, #T_986dc_row9_col8, #T_986dc_row9_col9, #T_986dc_row9_col13, #T_986dc_row9_col14, #T_986dc_row9_col18, #T_986dc_row9_col19, #T_986dc_row9_col20, #T_986dc_row9_col21, #T_986dc_row9_col22, #T_986dc_row9_col23, #T_986dc_row9_col24, #T_986dc_row9_col25, #T_986dc_row9_col26, #T_986dc_row9_col27, #T_986dc_row10_col0, #T_986dc_row10_col1, #T_986dc_row10_col2, #T_986dc_row10_col3, #T_986dc_row10_col4, #T_986dc_row10_col5, #T_986dc_row10_col6, #T_986dc_row10_col7, #T_986dc_row10_col8, #T_986dc_row10_col12, #T_986dc_row10_col13, #T_986dc_row10_col14, #T_986dc_row10_col18, #T_986dc_row10_col19, #T_986dc_row10_col20, #T_986dc_row10_col21, #T_986dc_row10_col22, #T_986dc_row10_col23, #T_986dc_row10_col24, #T_986dc_row10_col25, #T_986dc_row10_col26, #T_986dc_row10_col27, #T_986dc_row11_col0, #T_986dc_row11_col1, #T_986dc_row11_col2, #T_986dc_row11_col3, #T_986dc_row11_col4, #T_986dc_row11_col5, #T_986dc_row11_col6, #T_986dc_row11_col7, #T_986dc_row11_col8, #T_986dc_row11_col12, #T_986dc_row11_col13, #T_986dc_row11_col14, #T_986dc_row11_col18, #T_986dc_row11_col19, #T_986dc_row11_col20, #T_986dc_row11_col21, #T_986dc_row11_col22, #T_986dc_row11_col23, #T_986dc_row11_col24, #T_986dc_row11_col25, #T_986dc_row11_col26, #T_986dc_row11_col27, #T_986dc_row12_col0, #T_986dc_row12_col1, #T_986dc_row12_col2, #T_986dc_row12_col3, #T_986dc_row12_col4, #T_986dc_row12_col5, #T_986dc_row12_col6, #T_986dc_row12_col7, #T_986dc_row12_col8, #T_986dc_row12_col12, #T_986dc_row12_col13, #T_986dc_row12_col14, #T_986dc_row12_col18, #T_986dc_row12_col19, #T_986dc_row12_col20, #T_986dc_row12_col21, #T_986dc_row12_col22, #T_986dc_row12_col23, #T_986dc_row12_col24, #T_986dc_row12_col25, #T_986dc_row12_col26, #T_986dc_row12_col27, #T_986dc_row13_col0, #T_986dc_row13_col1, #T_986dc_row13_col2, #T_986dc_row13_col3, #T_986dc_row13_col4, #T_986dc_row13_col5, #T_986dc_row13_col6, #T_986dc_row13_col7, #T_986dc_row13_col11, #T_986dc_row13_col12, #T_986dc_row13_col13, #T_986dc_row13_col14, #T_986dc_row13_col20, #T_986dc_row13_col21, #T_986dc_row13_col22, #T_986dc_row13_col23, #T_986dc_row13_col24, #T_986dc_row13_col25, #T_986dc_row13_col26, #T_986dc_row13_col27, #T_986dc_row14_col0, #T_986dc_row14_col1, #T_986dc_row14_col2, #T_986dc_row14_col3, #T_986dc_row14_col4, #T_986dc_row14_col5, #T_986dc_row14_col6, #T_986dc_row14_col7, #T_986dc_row14_col20, #T_986dc_row14_col21, #T_986dc_row14_col22, #T_986dc_row14_col23, #T_986dc_row14_col24, #T_986dc_row14_col25, #T_986dc_row14_col26, #T_986dc_row14_col27, #T_986dc_row15_col0, #T_986dc_row15_col1, #T_986dc_row15_col2, #T_986dc_row15_col3, #T_986dc_row15_col4, #T_986dc_row15_col5, #T_986dc_row15_col6, #T_986dc_row15_col7, #T_986dc_row15_col8, #T_986dc_row15_col20, #T_986dc_row15_col21, #T_986dc_row15_col22, #T_986dc_row15_col23, #T_986dc_row15_col24, #T_986dc_row15_col25, #T_986dc_row15_col26, #T_986dc_row15_col27, #T_986dc_row16_col0, #T_986dc_row16_col1, #T_986dc_row16_col2, #T_986dc_row16_col3, #T_986dc_row16_col4, #T_986dc_row16_col5, #T_986dc_row16_col6, #T_986dc_row16_col7, #T_986dc_row16_col8, #T_986dc_row16_col19, #T_986dc_row16_col20, #T_986dc_row16_col21, #T_986dc_row16_col22, #T_986dc_row16_col23, #T_986dc_row16_col24, #T_986dc_row16_col25, #T_986dc_row16_col26, #T_986dc_row16_col27, #T_986dc_row17_col0, #T_986dc_row17_col1, #T_986dc_row17_col2, #T_986dc_row17_col3, #T_986dc_row17_col4, #T_986dc_row17_col5, #T_986dc_row17_col6, #T_986dc_row17_col7, #T_986dc_row17_col8, #T_986dc_row17_col9, #T_986dc_row17_col18, #T_986dc_row17_col19, #T_986dc_row17_col20, #T_986dc_row17_col21, #T_986dc_row17_col22, #T_986dc_row17_col23, #T_986dc_row17_col24, #T_986dc_row17_col25, #T_986dc_row17_col26, #T_986dc_row17_col27, #T_986dc_row18_col0, #T_986dc_row18_col1, #T_986dc_row18_col2, #T_986dc_row18_col3, #T_986dc_row18_col4, #T_986dc_row18_col5, #T_986dc_row18_col6, #T_986dc_row18_col7, #T_986dc_row18_col8, #T_986dc_row18_col9, #T_986dc_row18_col10, #T_986dc_row18_col11, #T_986dc_row18_col12, #T_986dc_row18_col13, #T_986dc_row18_col14, #T_986dc_row18_col18, #T_986dc_row18_col19, #T_986dc_row18_col20, #T_986dc_row18_col21, #T_986dc_row18_col22, #T_986dc_row18_col23, #T_986dc_row18_col24, #T_986dc_row18_col25, #T_986dc_row18_col26, #T_986dc_row18_col27, #T_986dc_row19_col0, #T_986dc_row19_col1, #T_986dc_row19_col2, #T_986dc_row19_col3, #T_986dc_row19_col4, #T_986dc_row19_col5, #T_986dc_row19_col6, #T_986dc_row19_col7, #T_986dc_row19_col8, #T_986dc_row19_col9, #T_986dc_row19_col10, #T_986dc_row19_col11, #T_986dc_row19_col12, #T_986dc_row19_col13, #T_986dc_row19_col14, #T_986dc_row19_col18, #T_986dc_row19_col19, #T_986dc_row19_col20, #T_986dc_row19_col21, #T_986dc_row19_col22, #T_986dc_row19_col23, #T_986dc_row19_col24, #T_986dc_row19_col25, #T_986dc_row19_col26, #T_986dc_row19_col27, #T_986dc_row20_col0, #T_986dc_row20_col1, #T_986dc_row20_col2, #T_986dc_row20_col3, #T_986dc_row20_col4, #T_986dc_row20_col5, #T_986dc_row20_col6, #T_986dc_row20_col7, #T_986dc_row20_col8, #T_986dc_row20_col9, #T_986dc_row20_col10, #T_986dc_row20_col11, #T_986dc_row20_col12, #T_986dc_row20_col13, #T_986dc_row20_col14, #T_986dc_row20_col18, #T_986dc_row20_col19, #T_986dc_row20_col20, #T_986dc_row20_col21, #T_986dc_row20_col22, #T_986dc_row20_col23, #T_986dc_row20_col24, #T_986dc_row20_col25, #T_986dc_row20_col26, #T_986dc_row20_col27, #T_986dc_row21_col0, #T_986dc_row21_col1, #T_986dc_row21_col2, #T_986dc_row21_col3, #T_986dc_row21_col4, #T_986dc_row21_col5, #T_986dc_row21_col6, #T_986dc_row21_col7, #T_986dc_row21_col8, #T_986dc_row21_col9, #T_986dc_row21_col10, #T_986dc_row21_col11, #T_986dc_row21_col12, #T_986dc_row21_col13, #T_986dc_row21_col14, #T_986dc_row21_col18, #T_986dc_row21_col19, #T_986dc_row21_col20, #T_986dc_row21_col21, #T_986dc_row21_col22, #T_986dc_row21_col23, #T_986dc_row21_col24, #T_986dc_row21_col25, #T_986dc_row21_col26, #T_986dc_row21_col27, #T_986dc_row22_col0, #T_986dc_row22_col1, #T_986dc_row22_col2, #T_986dc_row22_col3, #T_986dc_row22_col4, #T_986dc_row22_col5, #T_986dc_row22_col6, #T_986dc_row22_col7, #T_986dc_row22_col8, #T_986dc_row22_col9, #T_986dc_row22_col10, #T_986dc_row22_col11, #T_986dc_row22_col12, #T_986dc_row22_col13, #T_986dc_row22_col14, #T_986dc_row22_col18, #T_986dc_row22_col19, #T_986dc_row22_col20, #T_986dc_row22_col21, #T_986dc_row22_col22, #T_986dc_row22_col23, #T_986dc_row22_col24, #T_986dc_row22_col25, #T_986dc_row22_col26, #T_986dc_row22_col27, #T_986dc_row23_col0, #T_986dc_row23_col1, #T_986dc_row23_col2, #T_986dc_row23_col3, #T_986dc_row23_col4, #T_986dc_row23_col5, #T_986dc_row23_col6, #T_986dc_row23_col7, #T_986dc_row23_col8, #T_986dc_row23_col9, #T_986dc_row23_col10, #T_986dc_row23_col11, #T_986dc_row23_col12, #T_986dc_row23_col13, #T_986dc_row23_col14, #T_986dc_row23_col19, #T_986dc_row23_col20, #T_986dc_row23_col21, #T_986dc_row23_col22, #T_986dc_row23_col23, #T_986dc_row23_col24, #T_986dc_row23_col25, #T_986dc_row23_col26, #T_986dc_row23_col27, #T_986dc_row24_col0, #T_986dc_row24_col1, #T_986dc_row24_col2, #T_986dc_row24_col3, #T_986dc_row24_col4, #T_986dc_row24_col5, #T_986dc_row24_col6, #T_986dc_row24_col7, #T_986dc_row24_col8, #T_986dc_row24_col9, #T_986dc_row24_col10, #T_986dc_row24_col11, #T_986dc_row24_col12, #T_986dc_row24_col13, #T_986dc_row24_col14, #T_986dc_row24_col18, #T_986dc_row24_col19, #T_986dc_row24_col20, #T_986dc_row24_col21, #T_986dc_row24_col22, #T_986dc_row24_col23, #T_986dc_row24_col24, #T_986dc_row24_col25, #T_986dc_row24_col26, #T_986dc_row24_col27, #T_986dc_row25_col0, #T_986dc_row25_col1, #T_986dc_row25_col2, #T_986dc_row25_col3, #T_986dc_row25_col4, #T_986dc_row25_col5, #T_986dc_row25_col6, #T_986dc_row25_col7, #T_986dc_row25_col8, #T_986dc_row25_col9, #T_986dc_row25_col10, #T_986dc_row25_col11, #T_986dc_row25_col12, #T_986dc_row25_col13, #T_986dc_row25_col14, #T_986dc_row25_col15, #T_986dc_row25_col16, #T_986dc_row25_col17, #T_986dc_row25_col18, #T_986dc_row25_col19, #T_986dc_row25_col20, #T_986dc_row25_col21, #T_986dc_row25_col22, #T_986dc_row25_col23, #T_986dc_row25_col24, #T_986dc_row25_col25, #T_986dc_row25_col26, #T_986dc_row25_col27, #T_986dc_row26_col0, #T_986dc_row26_col1, #T_986dc_row26_col2, #T_986dc_row26_col3, #T_986dc_row26_col4, #T_986dc_row26_col5, #T_986dc_row26_col6, #T_986dc_row26_col7, #T_986dc_row26_col8, #T_986dc_row26_col9, #T_986dc_row26_col10, #T_986dc_row26_col11, #T_986dc_row26_col12, #T_986dc_row26_col13, #T_986dc_row26_col14, #T_986dc_row26_col15, #T_986dc_row26_col16, #T_986dc_row26_col17, #T_986dc_row26_col18, #T_986dc_row26_col19, #T_986dc_row26_col20, #T_986dc_row26_col21, #T_986dc_row26_col22, #T_986dc_row26_col23, #T_986dc_row26_col24, #T_986dc_row26_col25, #T_986dc_row26_col26, #T_986dc_row26_col27, #T_986dc_row27_col0, #T_986dc_row27_col1, #T_986dc_row27_col2, #T_986dc_row27_col3, #T_986dc_row27_col4, #T_986dc_row27_col5, #T_986dc_row27_col6, #T_986dc_row27_col7, #T_986dc_row27_col8, #T_986dc_row27_col9, #T_986dc_row27_col10, #T_986dc_row27_col11, #T_986dc_row27_col12, #T_986dc_row27_col13, #T_986dc_row27_col14, #T_986dc_row27_col15, #T_986dc_row27_col16, #T_986dc_row27_col17, #T_986dc_row27_col18, #T_986dc_row27_col19, #T_986dc_row27_col20, #T_986dc_row27_col21, #T_986dc_row27_col22, #T_986dc_row27_col23, #T_986dc_row27_col24, #T_986dc_row27_col25, #T_986dc_row27_col26, #T_986dc_row27_col27 {\n",
              "  font-size: 6pt;\n",
              "  background-color: #ffffff;\n",
              "  color: #000000;\n",
              "}\n",
              "#T_986dc_row5_col10, #T_986dc_row6_col10 {\n",
              "  font-size: 6pt;\n",
              "  background-color: #0a0a0a;\n",
              "  color: #f1f1f1;\n",
              "}\n",
              "#T_986dc_row5_col11, #T_986dc_row15_col9 {\n",
              "  font-size: 6pt;\n",
              "  background-color: #1a1a1a;\n",
              "  color: #f1f1f1;\n",
              "}\n",
              "#T_986dc_row5_col15, #T_986dc_row14_col12 {\n",
              "  font-size: 6pt;\n",
              "  background-color: #dcdcdc;\n",
              "  color: #000000;\n",
              "}\n",
              "#T_986dc_row5_col16 {\n",
              "  font-size: 6pt;\n",
              "  background-color: #c6c6c6;\n",
              "  color: #000000;\n",
              "}\n",
              "#T_986dc_row6_col9 {\n",
              "  font-size: 6pt;\n",
              "  background-color: #f7f7f7;\n",
              "  color: #000000;\n",
              "}\n",
              "#T_986dc_row6_col11, #T_986dc_row7_col11, #T_986dc_row10_col11 {\n",
              "  font-size: 6pt;\n",
              "  background-color: #1b1b1b;\n",
              "  color: #f1f1f1;\n",
              "}\n",
              "#T_986dc_row6_col15, #T_986dc_row9_col15, #T_986dc_row10_col15, #T_986dc_row11_col15, #T_986dc_row12_col15, #T_986dc_row13_col15, #T_986dc_row18_col15, #T_986dc_row19_col15, #T_986dc_row20_col15, #T_986dc_row21_col15, #T_986dc_row22_col15 {\n",
              "  font-size: 6pt;\n",
              "  background-color: #323232;\n",
              "  color: #f1f1f1;\n",
              "}\n",
              "#T_986dc_row6_col16, #T_986dc_row7_col10, #T_986dc_row7_col16, #T_986dc_row8_col16, #T_986dc_row9_col16, #T_986dc_row10_col16, #T_986dc_row11_col10, #T_986dc_row11_col16, #T_986dc_row12_col16, #T_986dc_row13_col16, #T_986dc_row14_col8, #T_986dc_row14_col9, #T_986dc_row14_col16, #T_986dc_row14_col17, #T_986dc_row14_col18, #T_986dc_row14_col19, #T_986dc_row15_col10, #T_986dc_row15_col11, #T_986dc_row15_col12, #T_986dc_row15_col16, #T_986dc_row15_col17, #T_986dc_row16_col11, #T_986dc_row16_col12, #T_986dc_row16_col13, #T_986dc_row16_col14, #T_986dc_row16_col15, #T_986dc_row16_col16, #T_986dc_row17_col16, #T_986dc_row18_col16, #T_986dc_row19_col16, #T_986dc_row20_col16, #T_986dc_row21_col16, #T_986dc_row22_col16, #T_986dc_row23_col16 {\n",
              "  font-size: 6pt;\n",
              "  background-color: #000000;\n",
              "  color: #f1f1f1;\n",
              "}\n",
              "#T_986dc_row6_col17, #T_986dc_row7_col17 {\n",
              "  font-size: 6pt;\n",
              "  background-color: #fdfdfd;\n",
              "  color: #000000;\n",
              "}\n",
              "#T_986dc_row7_col9, #T_986dc_row11_col9 {\n",
              "  font-size: 6pt;\n",
              "  background-color: #aaaaaa;\n",
              "  color: #f1f1f1;\n",
              "}\n",
              "#T_986dc_row7_col14 {\n",
              "  font-size: 6pt;\n",
              "  background-color: #e1e1e1;\n",
              "  color: #000000;\n",
              "}\n",
              "#T_986dc_row7_col15, #T_986dc_row11_col17, #T_986dc_row15_col13 {\n",
              "  font-size: 6pt;\n",
              "  background-color: #101010;\n",
              "  color: #f1f1f1;\n",
              "}\n",
              "#T_986dc_row8_col9 {\n",
              "  font-size: 6pt;\n",
              "  background-color: #f2f2f2;\n",
              "  color: #000000;\n",
              "}\n",
              "#T_986dc_row8_col10, #T_986dc_row9_col11 {\n",
              "  font-size: 6pt;\n",
              "  background-color: #090909;\n",
              "  color: #f1f1f1;\n",
              "}\n",
              "#T_986dc_row8_col11, #T_986dc_row23_col17 {\n",
              "  font-size: 6pt;\n",
              "  background-color: #070707;\n",
              "  color: #f1f1f1;\n",
              "}\n",
              "#T_986dc_row8_col12 {\n",
              "  font-size: 6pt;\n",
              "  background-color: #d3d3d3;\n",
              "  color: #000000;\n",
              "}\n",
              "#T_986dc_row8_col14, #T_986dc_row14_col14 {\n",
              "  font-size: 6pt;\n",
              "  background-color: #f6f6f6;\n",
              "  color: #000000;\n",
              "}\n",
              "#T_986dc_row8_col15 {\n",
              "  font-size: 6pt;\n",
              "  background-color: #242424;\n",
              "  color: #f1f1f1;\n",
              "}\n",
              "#T_986dc_row8_col17 {\n",
              "  font-size: 6pt;\n",
              "  background-color: #bebebe;\n",
              "  color: #000000;\n",
              "}\n",
              "#T_986dc_row9_col10, #T_986dc_row15_col18 {\n",
              "  font-size: 6pt;\n",
              "  background-color: #0c0c0c;\n",
              "  color: #f1f1f1;\n",
              "}\n",
              "#T_986dc_row9_col12 {\n",
              "  font-size: 6pt;\n",
              "  background-color: #dadada;\n",
              "  color: #000000;\n",
              "}\n",
              "#T_986dc_row9_col17 {\n",
              "  font-size: 6pt;\n",
              "  background-color: #6c6c6c;\n",
              "  color: #f1f1f1;\n",
              "}\n",
              "#T_986dc_row10_col9 {\n",
              "  font-size: 6pt;\n",
              "  background-color: #b9b9b9;\n",
              "  color: #000000;\n",
              "}\n",
              "#T_986dc_row10_col10, #T_986dc_row14_col10, #T_986dc_row15_col15 {\n",
              "  font-size: 6pt;\n",
              "  background-color: #010101;\n",
              "  color: #f1f1f1;\n",
              "}\n",
              "#T_986dc_row10_col17, #T_986dc_row24_col17 {\n",
              "  font-size: 6pt;\n",
              "  background-color: #0d0d0d;\n",
              "  color: #f1f1f1;\n",
              "}\n",
              "#T_986dc_row11_col11 {\n",
              "  font-size: 6pt;\n",
              "  background-color: #a2a2a2;\n",
              "  color: #f1f1f1;\n",
              "}\n",
              "#T_986dc_row12_col9 {\n",
              "  font-size: 6pt;\n",
              "  background-color: #5f5f5f;\n",
              "  color: #f1f1f1;\n",
              "}\n",
              "#T_986dc_row12_col10 {\n",
              "  font-size: 6pt;\n",
              "  background-color: #030303;\n",
              "  color: #f1f1f1;\n",
              "}\n",
              "#T_986dc_row12_col11, #T_986dc_row23_col18 {\n",
              "  font-size: 6pt;\n",
              "  background-color: #e3e3e3;\n",
              "  color: #000000;\n",
              "}\n",
              "#T_986dc_row12_col17, #T_986dc_row17_col17, #T_986dc_row18_col17, #T_986dc_row19_col17, #T_986dc_row20_col17, #T_986dc_row21_col17 {\n",
              "  font-size: 6pt;\n",
              "  background-color: #9a9a9a;\n",
              "  color: #f1f1f1;\n",
              "}\n",
              "#T_986dc_row13_col8 {\n",
              "  font-size: 6pt;\n",
              "  background-color: #dfdfdf;\n",
              "  color: #000000;\n",
              "}\n",
              "#T_986dc_row13_col9 {\n",
              "  font-size: 6pt;\n",
              "  background-color: #141414;\n",
              "  color: #f1f1f1;\n",
              "}\n",
              "#T_986dc_row13_col10 {\n",
              "  font-size: 6pt;\n",
              "  background-color: #060606;\n",
              "  color: #f1f1f1;\n",
              "}\n",
              "#T_986dc_row13_col17 {\n",
              "  font-size: 6pt;\n",
              "  background-color: #828282;\n",
              "  color: #f1f1f1;\n",
              "}\n",
              "#T_986dc_row13_col18 {\n",
              "  font-size: 6pt;\n",
              "  background-color: #e9e9e9;\n",
              "  color: #000000;\n",
              "}\n",
              "#T_986dc_row13_col19 {\n",
              "  font-size: 6pt;\n",
              "  background-color: #e8e8e8;\n",
              "  color: #000000;\n",
              "}\n",
              "#T_986dc_row14_col11 {\n",
              "  font-size: 6pt;\n",
              "  background-color: #a9a9a9;\n",
              "  color: #f1f1f1;\n",
              "}\n",
              "#T_986dc_row14_col13 {\n",
              "  font-size: 6pt;\n",
              "  background-color: #e6e6e6;\n",
              "  color: #000000;\n",
              "}\n",
              "#T_986dc_row14_col15 {\n",
              "  font-size: 6pt;\n",
              "  background-color: #252525;\n",
              "  color: #f1f1f1;\n",
              "}\n",
              "#T_986dc_row15_col14 {\n",
              "  font-size: 6pt;\n",
              "  background-color: #303030;\n",
              "  color: #f1f1f1;\n",
              "}\n",
              "#T_986dc_row15_col19 {\n",
              "  font-size: 6pt;\n",
              "  background-color: #606060;\n",
              "  color: #f1f1f1;\n",
              "}\n",
              "#T_986dc_row16_col9 {\n",
              "  font-size: 6pt;\n",
              "  background-color: #c3c3c3;\n",
              "  color: #000000;\n",
              "}\n",
              "#T_986dc_row16_col10 {\n",
              "  font-size: 6pt;\n",
              "  background-color: #3c3c3c;\n",
              "  color: #f1f1f1;\n",
              "}\n",
              "#T_986dc_row16_col17 {\n",
              "  font-size: 6pt;\n",
              "  background-color: #444444;\n",
              "  color: #f1f1f1;\n",
              "}\n",
              "#T_986dc_row16_col18 {\n",
              "  font-size: 6pt;\n",
              "  background-color: #ededed;\n",
              "  color: #000000;\n",
              "}\n",
              "#T_986dc_row17_col10 {\n",
              "  font-size: 6pt;\n",
              "  background-color: #f9f9f9;\n",
              "  color: #000000;\n",
              "}\n",
              "#T_986dc_row17_col11, #T_986dc_row17_col12, #T_986dc_row17_col13 {\n",
              "  font-size: 6pt;\n",
              "  background-color: #f4f4f4;\n",
              "  color: #000000;\n",
              "}\n",
              "#T_986dc_row17_col14 {\n",
              "  font-size: 6pt;\n",
              "  background-color: #a5a5a5;\n",
              "  color: #f1f1f1;\n",
              "}\n",
              "#T_986dc_row17_col15 {\n",
              "  font-size: 6pt;\n",
              "  background-color: #151515;\n",
              "  color: #f1f1f1;\n",
              "}\n",
              "#T_986dc_row22_col17 {\n",
              "  font-size: 6pt;\n",
              "  background-color: #2b2b2b;\n",
              "  color: #f1f1f1;\n",
              "}\n",
              "#T_986dc_row23_col15 {\n",
              "  font-size: 6pt;\n",
              "  background-color: #6b6b6b;\n",
              "  color: #f1f1f1;\n",
              "}\n",
              "#T_986dc_row24_col15 {\n",
              "  font-size: 6pt;\n",
              "  background-color: #fcfcfc;\n",
              "  color: #000000;\n",
              "}\n",
              "#T_986dc_row24_col16 {\n",
              "  font-size: 6pt;\n",
              "  background-color: #181818;\n",
              "  color: #f1f1f1;\n",
              "}\n",
              "</style>\n",
              "<table id=\"T_986dc_\" class=\"dataframe\">\n",
              "  <thead>\n",
              "    <tr>\n",
              "      <th class=\"blank level0\" >&nbsp;</th>\n",
              "      <th class=\"col_heading level0 col0\" >0</th>\n",
              "      <th class=\"col_heading level0 col1\" >1</th>\n",
              "      <th class=\"col_heading level0 col2\" >2</th>\n",
              "      <th class=\"col_heading level0 col3\" >3</th>\n",
              "      <th class=\"col_heading level0 col4\" >4</th>\n",
              "      <th class=\"col_heading level0 col5\" >5</th>\n",
              "      <th class=\"col_heading level0 col6\" >6</th>\n",
              "      <th class=\"col_heading level0 col7\" >7</th>\n",
              "      <th class=\"col_heading level0 col8\" >8</th>\n",
              "      <th class=\"col_heading level0 col9\" >9</th>\n",
              "      <th class=\"col_heading level0 col10\" >10</th>\n",
              "      <th class=\"col_heading level0 col11\" >11</th>\n",
              "      <th class=\"col_heading level0 col12\" >12</th>\n",
              "      <th class=\"col_heading level0 col13\" >13</th>\n",
              "      <th class=\"col_heading level0 col14\" >14</th>\n",
              "      <th class=\"col_heading level0 col15\" >15</th>\n",
              "      <th class=\"col_heading level0 col16\" >16</th>\n",
              "      <th class=\"col_heading level0 col17\" >17</th>\n",
              "      <th class=\"col_heading level0 col18\" >18</th>\n",
              "      <th class=\"col_heading level0 col19\" >19</th>\n",
              "      <th class=\"col_heading level0 col20\" >20</th>\n",
              "      <th class=\"col_heading level0 col21\" >21</th>\n",
              "      <th class=\"col_heading level0 col22\" >22</th>\n",
              "      <th class=\"col_heading level0 col23\" >23</th>\n",
              "      <th class=\"col_heading level0 col24\" >24</th>\n",
              "      <th class=\"col_heading level0 col25\" >25</th>\n",
              "      <th class=\"col_heading level0 col26\" >26</th>\n",
              "      <th class=\"col_heading level0 col27\" >27</th>\n",
              "    </tr>\n",
              "  </thead>\n",
              "  <tbody>\n",
              "    <tr>\n",
              "      <th id=\"T_986dc_level0_row0\" class=\"row_heading level0 row0\" >0</th>\n",
              "      <td id=\"T_986dc_row0_col0\" class=\"data row0 col0\" >0</td>\n",
              "      <td id=\"T_986dc_row0_col1\" class=\"data row0 col1\" >0</td>\n",
              "      <td id=\"T_986dc_row0_col2\" class=\"data row0 col2\" >0</td>\n",
              "      <td id=\"T_986dc_row0_col3\" class=\"data row0 col3\" >0</td>\n",
              "      <td id=\"T_986dc_row0_col4\" class=\"data row0 col4\" >0</td>\n",
              "      <td id=\"T_986dc_row0_col5\" class=\"data row0 col5\" >0</td>\n",
              "      <td id=\"T_986dc_row0_col6\" class=\"data row0 col6\" >0</td>\n",
              "      <td id=\"T_986dc_row0_col7\" class=\"data row0 col7\" >0</td>\n",
              "      <td id=\"T_986dc_row0_col8\" class=\"data row0 col8\" >0</td>\n",
              "      <td id=\"T_986dc_row0_col9\" class=\"data row0 col9\" >0</td>\n",
              "      <td id=\"T_986dc_row0_col10\" class=\"data row0 col10\" >0</td>\n",
              "      <td id=\"T_986dc_row0_col11\" class=\"data row0 col11\" >0</td>\n",
              "      <td id=\"T_986dc_row0_col12\" class=\"data row0 col12\" >0</td>\n",
              "      <td id=\"T_986dc_row0_col13\" class=\"data row0 col13\" >0</td>\n",
              "      <td id=\"T_986dc_row0_col14\" class=\"data row0 col14\" >0</td>\n",
              "      <td id=\"T_986dc_row0_col15\" class=\"data row0 col15\" >0</td>\n",
              "      <td id=\"T_986dc_row0_col16\" class=\"data row0 col16\" >0</td>\n",
              "      <td id=\"T_986dc_row0_col17\" class=\"data row0 col17\" >0</td>\n",
              "      <td id=\"T_986dc_row0_col18\" class=\"data row0 col18\" >0</td>\n",
              "      <td id=\"T_986dc_row0_col19\" class=\"data row0 col19\" >0</td>\n",
              "      <td id=\"T_986dc_row0_col20\" class=\"data row0 col20\" >0</td>\n",
              "      <td id=\"T_986dc_row0_col21\" class=\"data row0 col21\" >0</td>\n",
              "      <td id=\"T_986dc_row0_col22\" class=\"data row0 col22\" >0</td>\n",
              "      <td id=\"T_986dc_row0_col23\" class=\"data row0 col23\" >0</td>\n",
              "      <td id=\"T_986dc_row0_col24\" class=\"data row0 col24\" >0</td>\n",
              "      <td id=\"T_986dc_row0_col25\" class=\"data row0 col25\" >0</td>\n",
              "      <td id=\"T_986dc_row0_col26\" class=\"data row0 col26\" >0</td>\n",
              "      <td id=\"T_986dc_row0_col27\" class=\"data row0 col27\" >0</td>\n",
              "    </tr>\n",
              "    <tr>\n",
              "      <th id=\"T_986dc_level0_row1\" class=\"row_heading level0 row1\" >1</th>\n",
              "      <td id=\"T_986dc_row1_col0\" class=\"data row1 col0\" >0</td>\n",
              "      <td id=\"T_986dc_row1_col1\" class=\"data row1 col1\" >0</td>\n",
              "      <td id=\"T_986dc_row1_col2\" class=\"data row1 col2\" >0</td>\n",
              "      <td id=\"T_986dc_row1_col3\" class=\"data row1 col3\" >0</td>\n",
              "      <td id=\"T_986dc_row1_col4\" class=\"data row1 col4\" >0</td>\n",
              "      <td id=\"T_986dc_row1_col5\" class=\"data row1 col5\" >0</td>\n",
              "      <td id=\"T_986dc_row1_col6\" class=\"data row1 col6\" >0</td>\n",
              "      <td id=\"T_986dc_row1_col7\" class=\"data row1 col7\" >0</td>\n",
              "      <td id=\"T_986dc_row1_col8\" class=\"data row1 col8\" >0</td>\n",
              "      <td id=\"T_986dc_row1_col9\" class=\"data row1 col9\" >0</td>\n",
              "      <td id=\"T_986dc_row1_col10\" class=\"data row1 col10\" >0</td>\n",
              "      <td id=\"T_986dc_row1_col11\" class=\"data row1 col11\" >0</td>\n",
              "      <td id=\"T_986dc_row1_col12\" class=\"data row1 col12\" >0</td>\n",
              "      <td id=\"T_986dc_row1_col13\" class=\"data row1 col13\" >0</td>\n",
              "      <td id=\"T_986dc_row1_col14\" class=\"data row1 col14\" >0</td>\n",
              "      <td id=\"T_986dc_row1_col15\" class=\"data row1 col15\" >0</td>\n",
              "      <td id=\"T_986dc_row1_col16\" class=\"data row1 col16\" >0</td>\n",
              "      <td id=\"T_986dc_row1_col17\" class=\"data row1 col17\" >0</td>\n",
              "      <td id=\"T_986dc_row1_col18\" class=\"data row1 col18\" >0</td>\n",
              "      <td id=\"T_986dc_row1_col19\" class=\"data row1 col19\" >0</td>\n",
              "      <td id=\"T_986dc_row1_col20\" class=\"data row1 col20\" >0</td>\n",
              "      <td id=\"T_986dc_row1_col21\" class=\"data row1 col21\" >0</td>\n",
              "      <td id=\"T_986dc_row1_col22\" class=\"data row1 col22\" >0</td>\n",
              "      <td id=\"T_986dc_row1_col23\" class=\"data row1 col23\" >0</td>\n",
              "      <td id=\"T_986dc_row1_col24\" class=\"data row1 col24\" >0</td>\n",
              "      <td id=\"T_986dc_row1_col25\" class=\"data row1 col25\" >0</td>\n",
              "      <td id=\"T_986dc_row1_col26\" class=\"data row1 col26\" >0</td>\n",
              "      <td id=\"T_986dc_row1_col27\" class=\"data row1 col27\" >0</td>\n",
              "    </tr>\n",
              "    <tr>\n",
              "      <th id=\"T_986dc_level0_row2\" class=\"row_heading level0 row2\" >2</th>\n",
              "      <td id=\"T_986dc_row2_col0\" class=\"data row2 col0\" >0</td>\n",
              "      <td id=\"T_986dc_row2_col1\" class=\"data row2 col1\" >0</td>\n",
              "      <td id=\"T_986dc_row2_col2\" class=\"data row2 col2\" >0</td>\n",
              "      <td id=\"T_986dc_row2_col3\" class=\"data row2 col3\" >0</td>\n",
              "      <td id=\"T_986dc_row2_col4\" class=\"data row2 col4\" >0</td>\n",
              "      <td id=\"T_986dc_row2_col5\" class=\"data row2 col5\" >0</td>\n",
              "      <td id=\"T_986dc_row2_col6\" class=\"data row2 col6\" >0</td>\n",
              "      <td id=\"T_986dc_row2_col7\" class=\"data row2 col7\" >0</td>\n",
              "      <td id=\"T_986dc_row2_col8\" class=\"data row2 col8\" >0</td>\n",
              "      <td id=\"T_986dc_row2_col9\" class=\"data row2 col9\" >0</td>\n",
              "      <td id=\"T_986dc_row2_col10\" class=\"data row2 col10\" >0</td>\n",
              "      <td id=\"T_986dc_row2_col11\" class=\"data row2 col11\" >0</td>\n",
              "      <td id=\"T_986dc_row2_col12\" class=\"data row2 col12\" >0</td>\n",
              "      <td id=\"T_986dc_row2_col13\" class=\"data row2 col13\" >0</td>\n",
              "      <td id=\"T_986dc_row2_col14\" class=\"data row2 col14\" >0</td>\n",
              "      <td id=\"T_986dc_row2_col15\" class=\"data row2 col15\" >0</td>\n",
              "      <td id=\"T_986dc_row2_col16\" class=\"data row2 col16\" >0</td>\n",
              "      <td id=\"T_986dc_row2_col17\" class=\"data row2 col17\" >0</td>\n",
              "      <td id=\"T_986dc_row2_col18\" class=\"data row2 col18\" >0</td>\n",
              "      <td id=\"T_986dc_row2_col19\" class=\"data row2 col19\" >0</td>\n",
              "      <td id=\"T_986dc_row2_col20\" class=\"data row2 col20\" >0</td>\n",
              "      <td id=\"T_986dc_row2_col21\" class=\"data row2 col21\" >0</td>\n",
              "      <td id=\"T_986dc_row2_col22\" class=\"data row2 col22\" >0</td>\n",
              "      <td id=\"T_986dc_row2_col23\" class=\"data row2 col23\" >0</td>\n",
              "      <td id=\"T_986dc_row2_col24\" class=\"data row2 col24\" >0</td>\n",
              "      <td id=\"T_986dc_row2_col25\" class=\"data row2 col25\" >0</td>\n",
              "      <td id=\"T_986dc_row2_col26\" class=\"data row2 col26\" >0</td>\n",
              "      <td id=\"T_986dc_row2_col27\" class=\"data row2 col27\" >0</td>\n",
              "    </tr>\n",
              "    <tr>\n",
              "      <th id=\"T_986dc_level0_row3\" class=\"row_heading level0 row3\" >3</th>\n",
              "      <td id=\"T_986dc_row3_col0\" class=\"data row3 col0\" >0</td>\n",
              "      <td id=\"T_986dc_row3_col1\" class=\"data row3 col1\" >0</td>\n",
              "      <td id=\"T_986dc_row3_col2\" class=\"data row3 col2\" >0</td>\n",
              "      <td id=\"T_986dc_row3_col3\" class=\"data row3 col3\" >0</td>\n",
              "      <td id=\"T_986dc_row3_col4\" class=\"data row3 col4\" >0</td>\n",
              "      <td id=\"T_986dc_row3_col5\" class=\"data row3 col5\" >0</td>\n",
              "      <td id=\"T_986dc_row3_col6\" class=\"data row3 col6\" >0</td>\n",
              "      <td id=\"T_986dc_row3_col7\" class=\"data row3 col7\" >0</td>\n",
              "      <td id=\"T_986dc_row3_col8\" class=\"data row3 col8\" >0</td>\n",
              "      <td id=\"T_986dc_row3_col9\" class=\"data row3 col9\" >0</td>\n",
              "      <td id=\"T_986dc_row3_col10\" class=\"data row3 col10\" >0</td>\n",
              "      <td id=\"T_986dc_row3_col11\" class=\"data row3 col11\" >0</td>\n",
              "      <td id=\"T_986dc_row3_col12\" class=\"data row3 col12\" >0</td>\n",
              "      <td id=\"T_986dc_row3_col13\" class=\"data row3 col13\" >0</td>\n",
              "      <td id=\"T_986dc_row3_col14\" class=\"data row3 col14\" >0</td>\n",
              "      <td id=\"T_986dc_row3_col15\" class=\"data row3 col15\" >0</td>\n",
              "      <td id=\"T_986dc_row3_col16\" class=\"data row3 col16\" >0</td>\n",
              "      <td id=\"T_986dc_row3_col17\" class=\"data row3 col17\" >0</td>\n",
              "      <td id=\"T_986dc_row3_col18\" class=\"data row3 col18\" >0</td>\n",
              "      <td id=\"T_986dc_row3_col19\" class=\"data row3 col19\" >0</td>\n",
              "      <td id=\"T_986dc_row3_col20\" class=\"data row3 col20\" >0</td>\n",
              "      <td id=\"T_986dc_row3_col21\" class=\"data row3 col21\" >0</td>\n",
              "      <td id=\"T_986dc_row3_col22\" class=\"data row3 col22\" >0</td>\n",
              "      <td id=\"T_986dc_row3_col23\" class=\"data row3 col23\" >0</td>\n",
              "      <td id=\"T_986dc_row3_col24\" class=\"data row3 col24\" >0</td>\n",
              "      <td id=\"T_986dc_row3_col25\" class=\"data row3 col25\" >0</td>\n",
              "      <td id=\"T_986dc_row3_col26\" class=\"data row3 col26\" >0</td>\n",
              "      <td id=\"T_986dc_row3_col27\" class=\"data row3 col27\" >0</td>\n",
              "    </tr>\n",
              "    <tr>\n",
              "      <th id=\"T_986dc_level0_row4\" class=\"row_heading level0 row4\" >4</th>\n",
              "      <td id=\"T_986dc_row4_col0\" class=\"data row4 col0\" >0</td>\n",
              "      <td id=\"T_986dc_row4_col1\" class=\"data row4 col1\" >0</td>\n",
              "      <td id=\"T_986dc_row4_col2\" class=\"data row4 col2\" >0</td>\n",
              "      <td id=\"T_986dc_row4_col3\" class=\"data row4 col3\" >0</td>\n",
              "      <td id=\"T_986dc_row4_col4\" class=\"data row4 col4\" >0</td>\n",
              "      <td id=\"T_986dc_row4_col5\" class=\"data row4 col5\" >0</td>\n",
              "      <td id=\"T_986dc_row4_col6\" class=\"data row4 col6\" >0</td>\n",
              "      <td id=\"T_986dc_row4_col7\" class=\"data row4 col7\" >0</td>\n",
              "      <td id=\"T_986dc_row4_col8\" class=\"data row4 col8\" >0</td>\n",
              "      <td id=\"T_986dc_row4_col9\" class=\"data row4 col9\" >0</td>\n",
              "      <td id=\"T_986dc_row4_col10\" class=\"data row4 col10\" >0</td>\n",
              "      <td id=\"T_986dc_row4_col11\" class=\"data row4 col11\" >0</td>\n",
              "      <td id=\"T_986dc_row4_col12\" class=\"data row4 col12\" >0</td>\n",
              "      <td id=\"T_986dc_row4_col13\" class=\"data row4 col13\" >0</td>\n",
              "      <td id=\"T_986dc_row4_col14\" class=\"data row4 col14\" >0</td>\n",
              "      <td id=\"T_986dc_row4_col15\" class=\"data row4 col15\" >0</td>\n",
              "      <td id=\"T_986dc_row4_col16\" class=\"data row4 col16\" >0</td>\n",
              "      <td id=\"T_986dc_row4_col17\" class=\"data row4 col17\" >0</td>\n",
              "      <td id=\"T_986dc_row4_col18\" class=\"data row4 col18\" >0</td>\n",
              "      <td id=\"T_986dc_row4_col19\" class=\"data row4 col19\" >0</td>\n",
              "      <td id=\"T_986dc_row4_col20\" class=\"data row4 col20\" >0</td>\n",
              "      <td id=\"T_986dc_row4_col21\" class=\"data row4 col21\" >0</td>\n",
              "      <td id=\"T_986dc_row4_col22\" class=\"data row4 col22\" >0</td>\n",
              "      <td id=\"T_986dc_row4_col23\" class=\"data row4 col23\" >0</td>\n",
              "      <td id=\"T_986dc_row4_col24\" class=\"data row4 col24\" >0</td>\n",
              "      <td id=\"T_986dc_row4_col25\" class=\"data row4 col25\" >0</td>\n",
              "      <td id=\"T_986dc_row4_col26\" class=\"data row4 col26\" >0</td>\n",
              "      <td id=\"T_986dc_row4_col27\" class=\"data row4 col27\" >0</td>\n",
              "    </tr>\n",
              "    <tr>\n",
              "      <th id=\"T_986dc_level0_row5\" class=\"row_heading level0 row5\" >5</th>\n",
              "      <td id=\"T_986dc_row5_col0\" class=\"data row5 col0\" >0</td>\n",
              "      <td id=\"T_986dc_row5_col1\" class=\"data row5 col1\" >0</td>\n",
              "      <td id=\"T_986dc_row5_col2\" class=\"data row5 col2\" >0</td>\n",
              "      <td id=\"T_986dc_row5_col3\" class=\"data row5 col3\" >0</td>\n",
              "      <td id=\"T_986dc_row5_col4\" class=\"data row5 col4\" >0</td>\n",
              "      <td id=\"T_986dc_row5_col5\" class=\"data row5 col5\" >0</td>\n",
              "      <td id=\"T_986dc_row5_col6\" class=\"data row5 col6\" >0</td>\n",
              "      <td id=\"T_986dc_row5_col7\" class=\"data row5 col7\" >0</td>\n",
              "      <td id=\"T_986dc_row5_col8\" class=\"data row5 col8\" >0</td>\n",
              "      <td id=\"T_986dc_row5_col9\" class=\"data row5 col9\" >0</td>\n",
              "      <td id=\"T_986dc_row5_col10\" class=\"data row5 col10\" >245</td>\n",
              "      <td id=\"T_986dc_row5_col11\" class=\"data row5 col11\" >232</td>\n",
              "      <td id=\"T_986dc_row5_col12\" class=\"data row5 col12\" >0</td>\n",
              "      <td id=\"T_986dc_row5_col13\" class=\"data row5 col13\" >0</td>\n",
              "      <td id=\"T_986dc_row5_col14\" class=\"data row5 col14\" >0</td>\n",
              "      <td id=\"T_986dc_row5_col15\" class=\"data row5 col15\" >60</td>\n",
              "      <td id=\"T_986dc_row5_col16\" class=\"data row5 col16\" >85</td>\n",
              "      <td id=\"T_986dc_row5_col17\" class=\"data row5 col17\" >1</td>\n",
              "      <td id=\"T_986dc_row5_col18\" class=\"data row5 col18\" >0</td>\n",
              "      <td id=\"T_986dc_row5_col19\" class=\"data row5 col19\" >0</td>\n",
              "      <td id=\"T_986dc_row5_col20\" class=\"data row5 col20\" >0</td>\n",
              "      <td id=\"T_986dc_row5_col21\" class=\"data row5 col21\" >0</td>\n",
              "      <td id=\"T_986dc_row5_col22\" class=\"data row5 col22\" >0</td>\n",
              "      <td id=\"T_986dc_row5_col23\" class=\"data row5 col23\" >0</td>\n",
              "      <td id=\"T_986dc_row5_col24\" class=\"data row5 col24\" >0</td>\n",
              "      <td id=\"T_986dc_row5_col25\" class=\"data row5 col25\" >0</td>\n",
              "      <td id=\"T_986dc_row5_col26\" class=\"data row5 col26\" >0</td>\n",
              "      <td id=\"T_986dc_row5_col27\" class=\"data row5 col27\" >0</td>\n",
              "    </tr>\n",
              "    <tr>\n",
              "      <th id=\"T_986dc_level0_row6\" class=\"row_heading level0 row6\" >6</th>\n",
              "      <td id=\"T_986dc_row6_col0\" class=\"data row6 col0\" >0</td>\n",
              "      <td id=\"T_986dc_row6_col1\" class=\"data row6 col1\" >0</td>\n",
              "      <td id=\"T_986dc_row6_col2\" class=\"data row6 col2\" >0</td>\n",
              "      <td id=\"T_986dc_row6_col3\" class=\"data row6 col3\" >0</td>\n",
              "      <td id=\"T_986dc_row6_col4\" class=\"data row6 col4\" >0</td>\n",
              "      <td id=\"T_986dc_row6_col5\" class=\"data row6 col5\" >0</td>\n",
              "      <td id=\"T_986dc_row6_col6\" class=\"data row6 col6\" >0</td>\n",
              "      <td id=\"T_986dc_row6_col7\" class=\"data row6 col7\" >0</td>\n",
              "      <td id=\"T_986dc_row6_col8\" class=\"data row6 col8\" >0</td>\n",
              "      <td id=\"T_986dc_row6_col9\" class=\"data row6 col9\" >16</td>\n",
              "      <td id=\"T_986dc_row6_col10\" class=\"data row6 col10\" >245</td>\n",
              "      <td id=\"T_986dc_row6_col11\" class=\"data row6 col11\" >231</td>\n",
              "      <td id=\"T_986dc_row6_col12\" class=\"data row6 col12\" >0</td>\n",
              "      <td id=\"T_986dc_row6_col13\" class=\"data row6 col13\" >0</td>\n",
              "      <td id=\"T_986dc_row6_col14\" class=\"data row6 col14\" >0</td>\n",
              "      <td id=\"T_986dc_row6_col15\" class=\"data row6 col15\" >214</td>\n",
              "      <td id=\"T_986dc_row6_col16\" class=\"data row6 col16\" >254</td>\n",
              "      <td id=\"T_986dc_row6_col17\" class=\"data row6 col17\" >5</td>\n",
              "      <td id=\"T_986dc_row6_col18\" class=\"data row6 col18\" >0</td>\n",
              "      <td id=\"T_986dc_row6_col19\" class=\"data row6 col19\" >0</td>\n",
              "      <td id=\"T_986dc_row6_col20\" class=\"data row6 col20\" >0</td>\n",
              "      <td id=\"T_986dc_row6_col21\" class=\"data row6 col21\" >0</td>\n",
              "      <td id=\"T_986dc_row6_col22\" class=\"data row6 col22\" >0</td>\n",
              "      <td id=\"T_986dc_row6_col23\" class=\"data row6 col23\" >0</td>\n",
              "      <td id=\"T_986dc_row6_col24\" class=\"data row6 col24\" >0</td>\n",
              "      <td id=\"T_986dc_row6_col25\" class=\"data row6 col25\" >0</td>\n",
              "      <td id=\"T_986dc_row6_col26\" class=\"data row6 col26\" >0</td>\n",
              "      <td id=\"T_986dc_row6_col27\" class=\"data row6 col27\" >0</td>\n",
              "    </tr>\n",
              "    <tr>\n",
              "      <th id=\"T_986dc_level0_row7\" class=\"row_heading level0 row7\" >7</th>\n",
              "      <td id=\"T_986dc_row7_col0\" class=\"data row7 col0\" >0</td>\n",
              "      <td id=\"T_986dc_row7_col1\" class=\"data row7 col1\" >0</td>\n",
              "      <td id=\"T_986dc_row7_col2\" class=\"data row7 col2\" >0</td>\n",
              "      <td id=\"T_986dc_row7_col3\" class=\"data row7 col3\" >0</td>\n",
              "      <td id=\"T_986dc_row7_col4\" class=\"data row7 col4\" >0</td>\n",
              "      <td id=\"T_986dc_row7_col5\" class=\"data row7 col5\" >0</td>\n",
              "      <td id=\"T_986dc_row7_col6\" class=\"data row7 col6\" >0</td>\n",
              "      <td id=\"T_986dc_row7_col7\" class=\"data row7 col7\" >0</td>\n",
              "      <td id=\"T_986dc_row7_col8\" class=\"data row7 col8\" >0</td>\n",
              "      <td id=\"T_986dc_row7_col9\" class=\"data row7 col9\" >108</td>\n",
              "      <td id=\"T_986dc_row7_col10\" class=\"data row7 col10\" >254</td>\n",
              "      <td id=\"T_986dc_row7_col11\" class=\"data row7 col11\" >231</td>\n",
              "      <td id=\"T_986dc_row7_col12\" class=\"data row7 col12\" >0</td>\n",
              "      <td id=\"T_986dc_row7_col13\" class=\"data row7 col13\" >0</td>\n",
              "      <td id=\"T_986dc_row7_col14\" class=\"data row7 col14\" >53</td>\n",
              "      <td id=\"T_986dc_row7_col15\" class=\"data row7 col15\" >241</td>\n",
              "      <td id=\"T_986dc_row7_col16\" class=\"data row7 col16\" >254</td>\n",
              "      <td id=\"T_986dc_row7_col17\" class=\"data row7 col17\" >5</td>\n",
              "      <td id=\"T_986dc_row7_col18\" class=\"data row7 col18\" >0</td>\n",
              "      <td id=\"T_986dc_row7_col19\" class=\"data row7 col19\" >0</td>\n",
              "      <td id=\"T_986dc_row7_col20\" class=\"data row7 col20\" >0</td>\n",
              "      <td id=\"T_986dc_row7_col21\" class=\"data row7 col21\" >0</td>\n",
              "      <td id=\"T_986dc_row7_col22\" class=\"data row7 col22\" >0</td>\n",
              "      <td id=\"T_986dc_row7_col23\" class=\"data row7 col23\" >0</td>\n",
              "      <td id=\"T_986dc_row7_col24\" class=\"data row7 col24\" >0</td>\n",
              "      <td id=\"T_986dc_row7_col25\" class=\"data row7 col25\" >0</td>\n",
              "      <td id=\"T_986dc_row7_col26\" class=\"data row7 col26\" >0</td>\n",
              "      <td id=\"T_986dc_row7_col27\" class=\"data row7 col27\" >0</td>\n",
              "    </tr>\n",
              "    <tr>\n",
              "      <th id=\"T_986dc_level0_row8\" class=\"row_heading level0 row8\" >8</th>\n",
              "      <td id=\"T_986dc_row8_col0\" class=\"data row8 col0\" >0</td>\n",
              "      <td id=\"T_986dc_row8_col1\" class=\"data row8 col1\" >0</td>\n",
              "      <td id=\"T_986dc_row8_col2\" class=\"data row8 col2\" >0</td>\n",
              "      <td id=\"T_986dc_row8_col3\" class=\"data row8 col3\" >0</td>\n",
              "      <td id=\"T_986dc_row8_col4\" class=\"data row8 col4\" >0</td>\n",
              "      <td id=\"T_986dc_row8_col5\" class=\"data row8 col5\" >0</td>\n",
              "      <td id=\"T_986dc_row8_col6\" class=\"data row8 col6\" >0</td>\n",
              "      <td id=\"T_986dc_row8_col7\" class=\"data row8 col7\" >0</td>\n",
              "      <td id=\"T_986dc_row8_col8\" class=\"data row8 col8\" >0</td>\n",
              "      <td id=\"T_986dc_row8_col9\" class=\"data row8 col9\" >28</td>\n",
              "      <td id=\"T_986dc_row8_col10\" class=\"data row8 col10\" >246</td>\n",
              "      <td id=\"T_986dc_row8_col11\" class=\"data row8 col11\" >248</td>\n",
              "      <td id=\"T_986dc_row8_col12\" class=\"data row8 col12\" >71</td>\n",
              "      <td id=\"T_986dc_row8_col13\" class=\"data row8 col13\" >0</td>\n",
              "      <td id=\"T_986dc_row8_col14\" class=\"data row8 col14\" >20</td>\n",
              "      <td id=\"T_986dc_row8_col15\" class=\"data row8 col15\" >224</td>\n",
              "      <td id=\"T_986dc_row8_col16\" class=\"data row8 col16\" >254</td>\n",
              "      <td id=\"T_986dc_row8_col17\" class=\"data row8 col17\" >94</td>\n",
              "      <td id=\"T_986dc_row8_col18\" class=\"data row8 col18\" >0</td>\n",
              "      <td id=\"T_986dc_row8_col19\" class=\"data row8 col19\" >0</td>\n",
              "      <td id=\"T_986dc_row8_col20\" class=\"data row8 col20\" >0</td>\n",
              "      <td id=\"T_986dc_row8_col21\" class=\"data row8 col21\" >0</td>\n",
              "      <td id=\"T_986dc_row8_col22\" class=\"data row8 col22\" >0</td>\n",
              "      <td id=\"T_986dc_row8_col23\" class=\"data row8 col23\" >0</td>\n",
              "      <td id=\"T_986dc_row8_col24\" class=\"data row8 col24\" >0</td>\n",
              "      <td id=\"T_986dc_row8_col25\" class=\"data row8 col25\" >0</td>\n",
              "      <td id=\"T_986dc_row8_col26\" class=\"data row8 col26\" >0</td>\n",
              "      <td id=\"T_986dc_row8_col27\" class=\"data row8 col27\" >0</td>\n",
              "    </tr>\n",
              "    <tr>\n",
              "      <th id=\"T_986dc_level0_row9\" class=\"row_heading level0 row9\" >9</th>\n",
              "      <td id=\"T_986dc_row9_col0\" class=\"data row9 col0\" >0</td>\n",
              "      <td id=\"T_986dc_row9_col1\" class=\"data row9 col1\" >0</td>\n",
              "      <td id=\"T_986dc_row9_col2\" class=\"data row9 col2\" >0</td>\n",
              "      <td id=\"T_986dc_row9_col3\" class=\"data row9 col3\" >0</td>\n",
              "      <td id=\"T_986dc_row9_col4\" class=\"data row9 col4\" >0</td>\n",
              "      <td id=\"T_986dc_row9_col5\" class=\"data row9 col5\" >0</td>\n",
              "      <td id=\"T_986dc_row9_col6\" class=\"data row9 col6\" >0</td>\n",
              "      <td id=\"T_986dc_row9_col7\" class=\"data row9 col7\" >0</td>\n",
              "      <td id=\"T_986dc_row9_col8\" class=\"data row9 col8\" >0</td>\n",
              "      <td id=\"T_986dc_row9_col9\" class=\"data row9 col9\" >0</td>\n",
              "      <td id=\"T_986dc_row9_col10\" class=\"data row9 col10\" >244</td>\n",
              "      <td id=\"T_986dc_row9_col11\" class=\"data row9 col11\" >246</td>\n",
              "      <td id=\"T_986dc_row9_col12\" class=\"data row9 col12\" >62</td>\n",
              "      <td id=\"T_986dc_row9_col13\" class=\"data row9 col13\" >0</td>\n",
              "      <td id=\"T_986dc_row9_col14\" class=\"data row9 col14\" >0</td>\n",
              "      <td id=\"T_986dc_row9_col15\" class=\"data row9 col15\" >214</td>\n",
              "      <td id=\"T_986dc_row9_col16\" class=\"data row9 col16\" >254</td>\n",
              "      <td id=\"T_986dc_row9_col17\" class=\"data row9 col17\" >165</td>\n",
              "      <td id=\"T_986dc_row9_col18\" class=\"data row9 col18\" >0</td>\n",
              "      <td id=\"T_986dc_row9_col19\" class=\"data row9 col19\" >0</td>\n",
              "      <td id=\"T_986dc_row9_col20\" class=\"data row9 col20\" >0</td>\n",
              "      <td id=\"T_986dc_row9_col21\" class=\"data row9 col21\" >0</td>\n",
              "      <td id=\"T_986dc_row9_col22\" class=\"data row9 col22\" >0</td>\n",
              "      <td id=\"T_986dc_row9_col23\" class=\"data row9 col23\" >0</td>\n",
              "      <td id=\"T_986dc_row9_col24\" class=\"data row9 col24\" >0</td>\n",
              "      <td id=\"T_986dc_row9_col25\" class=\"data row9 col25\" >0</td>\n",
              "      <td id=\"T_986dc_row9_col26\" class=\"data row9 col26\" >0</td>\n",
              "      <td id=\"T_986dc_row9_col27\" class=\"data row9 col27\" >0</td>\n",
              "    </tr>\n",
              "    <tr>\n",
              "      <th id=\"T_986dc_level0_row10\" class=\"row_heading level0 row10\" >10</th>\n",
              "      <td id=\"T_986dc_row10_col0\" class=\"data row10 col0\" >0</td>\n",
              "      <td id=\"T_986dc_row10_col1\" class=\"data row10 col1\" >0</td>\n",
              "      <td id=\"T_986dc_row10_col2\" class=\"data row10 col2\" >0</td>\n",
              "      <td id=\"T_986dc_row10_col3\" class=\"data row10 col3\" >0</td>\n",
              "      <td id=\"T_986dc_row10_col4\" class=\"data row10 col4\" >0</td>\n",
              "      <td id=\"T_986dc_row10_col5\" class=\"data row10 col5\" >0</td>\n",
              "      <td id=\"T_986dc_row10_col6\" class=\"data row10 col6\" >0</td>\n",
              "      <td id=\"T_986dc_row10_col7\" class=\"data row10 col7\" >0</td>\n",
              "      <td id=\"T_986dc_row10_col8\" class=\"data row10 col8\" >0</td>\n",
              "      <td id=\"T_986dc_row10_col9\" class=\"data row10 col9\" >96</td>\n",
              "      <td id=\"T_986dc_row10_col10\" class=\"data row10 col10\" >253</td>\n",
              "      <td id=\"T_986dc_row10_col11\" class=\"data row10 col11\" >231</td>\n",
              "      <td id=\"T_986dc_row10_col12\" class=\"data row10 col12\" >0</td>\n",
              "      <td id=\"T_986dc_row10_col13\" class=\"data row10 col13\" >0</td>\n",
              "      <td id=\"T_986dc_row10_col14\" class=\"data row10 col14\" >0</td>\n",
              "      <td id=\"T_986dc_row10_col15\" class=\"data row10 col15\" >214</td>\n",
              "      <td id=\"T_986dc_row10_col16\" class=\"data row10 col16\" >254</td>\n",
              "      <td id=\"T_986dc_row10_col17\" class=\"data row10 col17\" >243</td>\n",
              "      <td id=\"T_986dc_row10_col18\" class=\"data row10 col18\" >0</td>\n",
              "      <td id=\"T_986dc_row10_col19\" class=\"data row10 col19\" >0</td>\n",
              "      <td id=\"T_986dc_row10_col20\" class=\"data row10 col20\" >0</td>\n",
              "      <td id=\"T_986dc_row10_col21\" class=\"data row10 col21\" >0</td>\n",
              "      <td id=\"T_986dc_row10_col22\" class=\"data row10 col22\" >0</td>\n",
              "      <td id=\"T_986dc_row10_col23\" class=\"data row10 col23\" >0</td>\n",
              "      <td id=\"T_986dc_row10_col24\" class=\"data row10 col24\" >0</td>\n",
              "      <td id=\"T_986dc_row10_col25\" class=\"data row10 col25\" >0</td>\n",
              "      <td id=\"T_986dc_row10_col26\" class=\"data row10 col26\" >0</td>\n",
              "      <td id=\"T_986dc_row10_col27\" class=\"data row10 col27\" >0</td>\n",
              "    </tr>\n",
              "    <tr>\n",
              "      <th id=\"T_986dc_level0_row11\" class=\"row_heading level0 row11\" >11</th>\n",
              "      <td id=\"T_986dc_row11_col0\" class=\"data row11 col0\" >0</td>\n",
              "      <td id=\"T_986dc_row11_col1\" class=\"data row11 col1\" >0</td>\n",
              "      <td id=\"T_986dc_row11_col2\" class=\"data row11 col2\" >0</td>\n",
              "      <td id=\"T_986dc_row11_col3\" class=\"data row11 col3\" >0</td>\n",
              "      <td id=\"T_986dc_row11_col4\" class=\"data row11 col4\" >0</td>\n",
              "      <td id=\"T_986dc_row11_col5\" class=\"data row11 col5\" >0</td>\n",
              "      <td id=\"T_986dc_row11_col6\" class=\"data row11 col6\" >0</td>\n",
              "      <td id=\"T_986dc_row11_col7\" class=\"data row11 col7\" >0</td>\n",
              "      <td id=\"T_986dc_row11_col8\" class=\"data row11 col8\" >0</td>\n",
              "      <td id=\"T_986dc_row11_col9\" class=\"data row11 col9\" >108</td>\n",
              "      <td id=\"T_986dc_row11_col10\" class=\"data row11 col10\" >254</td>\n",
              "      <td id=\"T_986dc_row11_col11\" class=\"data row11 col11\" >118</td>\n",
              "      <td id=\"T_986dc_row11_col12\" class=\"data row11 col12\" >0</td>\n",
              "      <td id=\"T_986dc_row11_col13\" class=\"data row11 col13\" >0</td>\n",
              "      <td id=\"T_986dc_row11_col14\" class=\"data row11 col14\" >0</td>\n",
              "      <td id=\"T_986dc_row11_col15\" class=\"data row11 col15\" >214</td>\n",
              "      <td id=\"T_986dc_row11_col16\" class=\"data row11 col16\" >254</td>\n",
              "      <td id=\"T_986dc_row11_col17\" class=\"data row11 col17\" >240</td>\n",
              "      <td id=\"T_986dc_row11_col18\" class=\"data row11 col18\" >0</td>\n",
              "      <td id=\"T_986dc_row11_col19\" class=\"data row11 col19\" >0</td>\n",
              "      <td id=\"T_986dc_row11_col20\" class=\"data row11 col20\" >0</td>\n",
              "      <td id=\"T_986dc_row11_col21\" class=\"data row11 col21\" >0</td>\n",
              "      <td id=\"T_986dc_row11_col22\" class=\"data row11 col22\" >0</td>\n",
              "      <td id=\"T_986dc_row11_col23\" class=\"data row11 col23\" >0</td>\n",
              "      <td id=\"T_986dc_row11_col24\" class=\"data row11 col24\" >0</td>\n",
              "      <td id=\"T_986dc_row11_col25\" class=\"data row11 col25\" >0</td>\n",
              "      <td id=\"T_986dc_row11_col26\" class=\"data row11 col26\" >0</td>\n",
              "      <td id=\"T_986dc_row11_col27\" class=\"data row11 col27\" >0</td>\n",
              "    </tr>\n",
              "    <tr>\n",
              "      <th id=\"T_986dc_level0_row12\" class=\"row_heading level0 row12\" >12</th>\n",
              "      <td id=\"T_986dc_row12_col0\" class=\"data row12 col0\" >0</td>\n",
              "      <td id=\"T_986dc_row12_col1\" class=\"data row12 col1\" >0</td>\n",
              "      <td id=\"T_986dc_row12_col2\" class=\"data row12 col2\" >0</td>\n",
              "      <td id=\"T_986dc_row12_col3\" class=\"data row12 col3\" >0</td>\n",
              "      <td id=\"T_986dc_row12_col4\" class=\"data row12 col4\" >0</td>\n",
              "      <td id=\"T_986dc_row12_col5\" class=\"data row12 col5\" >0</td>\n",
              "      <td id=\"T_986dc_row12_col6\" class=\"data row12 col6\" >0</td>\n",
              "      <td id=\"T_986dc_row12_col7\" class=\"data row12 col7\" >0</td>\n",
              "      <td id=\"T_986dc_row12_col8\" class=\"data row12 col8\" >0</td>\n",
              "      <td id=\"T_986dc_row12_col9\" class=\"data row12 col9\" >174</td>\n",
              "      <td id=\"T_986dc_row12_col10\" class=\"data row12 col10\" >251</td>\n",
              "      <td id=\"T_986dc_row12_col11\" class=\"data row12 col11\" >50</td>\n",
              "      <td id=\"T_986dc_row12_col12\" class=\"data row12 col12\" >0</td>\n",
              "      <td id=\"T_986dc_row12_col13\" class=\"data row12 col13\" >0</td>\n",
              "      <td id=\"T_986dc_row12_col14\" class=\"data row12 col14\" >0</td>\n",
              "      <td id=\"T_986dc_row12_col15\" class=\"data row12 col15\" >214</td>\n",
              "      <td id=\"T_986dc_row12_col16\" class=\"data row12 col16\" >254</td>\n",
              "      <td id=\"T_986dc_row12_col17\" class=\"data row12 col17\" >124</td>\n",
              "      <td id=\"T_986dc_row12_col18\" class=\"data row12 col18\" >0</td>\n",
              "      <td id=\"T_986dc_row12_col19\" class=\"data row12 col19\" >0</td>\n",
              "      <td id=\"T_986dc_row12_col20\" class=\"data row12 col20\" >0</td>\n",
              "      <td id=\"T_986dc_row12_col21\" class=\"data row12 col21\" >0</td>\n",
              "      <td id=\"T_986dc_row12_col22\" class=\"data row12 col22\" >0</td>\n",
              "      <td id=\"T_986dc_row12_col23\" class=\"data row12 col23\" >0</td>\n",
              "      <td id=\"T_986dc_row12_col24\" class=\"data row12 col24\" >0</td>\n",
              "      <td id=\"T_986dc_row12_col25\" class=\"data row12 col25\" >0</td>\n",
              "      <td id=\"T_986dc_row12_col26\" class=\"data row12 col26\" >0</td>\n",
              "      <td id=\"T_986dc_row12_col27\" class=\"data row12 col27\" >0</td>\n",
              "    </tr>\n",
              "    <tr>\n",
              "      <th id=\"T_986dc_level0_row13\" class=\"row_heading level0 row13\" >13</th>\n",
              "      <td id=\"T_986dc_row13_col0\" class=\"data row13 col0\" >0</td>\n",
              "      <td id=\"T_986dc_row13_col1\" class=\"data row13 col1\" >0</td>\n",
              "      <td id=\"T_986dc_row13_col2\" class=\"data row13 col2\" >0</td>\n",
              "      <td id=\"T_986dc_row13_col3\" class=\"data row13 col3\" >0</td>\n",
              "      <td id=\"T_986dc_row13_col4\" class=\"data row13 col4\" >0</td>\n",
              "      <td id=\"T_986dc_row13_col5\" class=\"data row13 col5\" >0</td>\n",
              "      <td id=\"T_986dc_row13_col6\" class=\"data row13 col6\" >0</td>\n",
              "      <td id=\"T_986dc_row13_col7\" class=\"data row13 col7\" >0</td>\n",
              "      <td id=\"T_986dc_row13_col8\" class=\"data row13 col8\" >15</td>\n",
              "      <td id=\"T_986dc_row13_col9\" class=\"data row13 col9\" >231</td>\n",
              "      <td id=\"T_986dc_row13_col10\" class=\"data row13 col10\" >249</td>\n",
              "      <td id=\"T_986dc_row13_col11\" class=\"data row13 col11\" >0</td>\n",
              "      <td id=\"T_986dc_row13_col12\" class=\"data row13 col12\" >0</td>\n",
              "      <td id=\"T_986dc_row13_col13\" class=\"data row13 col13\" >0</td>\n",
              "      <td id=\"T_986dc_row13_col14\" class=\"data row13 col14\" >0</td>\n",
              "      <td id=\"T_986dc_row13_col15\" class=\"data row13 col15\" >214</td>\n",
              "      <td id=\"T_986dc_row13_col16\" class=\"data row13 col16\" >254</td>\n",
              "      <td id=\"T_986dc_row13_col17\" class=\"data row13 col17\" >145</td>\n",
              "      <td id=\"T_986dc_row13_col18\" class=\"data row13 col18\" >42</td>\n",
              "      <td id=\"T_986dc_row13_col19\" class=\"data row13 col19\" >15</td>\n",
              "      <td id=\"T_986dc_row13_col20\" class=\"data row13 col20\" >0</td>\n",
              "      <td id=\"T_986dc_row13_col21\" class=\"data row13 col21\" >0</td>\n",
              "      <td id=\"T_986dc_row13_col22\" class=\"data row13 col22\" >0</td>\n",
              "      <td id=\"T_986dc_row13_col23\" class=\"data row13 col23\" >0</td>\n",
              "      <td id=\"T_986dc_row13_col24\" class=\"data row13 col24\" >0</td>\n",
              "      <td id=\"T_986dc_row13_col25\" class=\"data row13 col25\" >0</td>\n",
              "      <td id=\"T_986dc_row13_col26\" class=\"data row13 col26\" >0</td>\n",
              "      <td id=\"T_986dc_row13_col27\" class=\"data row13 col27\" >0</td>\n",
              "    </tr>\n",
              "    <tr>\n",
              "      <th id=\"T_986dc_level0_row14\" class=\"row_heading level0 row14\" >14</th>\n",
              "      <td id=\"T_986dc_row14_col0\" class=\"data row14 col0\" >0</td>\n",
              "      <td id=\"T_986dc_row14_col1\" class=\"data row14 col1\" >0</td>\n",
              "      <td id=\"T_986dc_row14_col2\" class=\"data row14 col2\" >0</td>\n",
              "      <td id=\"T_986dc_row14_col3\" class=\"data row14 col3\" >0</td>\n",
              "      <td id=\"T_986dc_row14_col4\" class=\"data row14 col4\" >0</td>\n",
              "      <td id=\"T_986dc_row14_col5\" class=\"data row14 col5\" >0</td>\n",
              "      <td id=\"T_986dc_row14_col6\" class=\"data row14 col6\" >0</td>\n",
              "      <td id=\"T_986dc_row14_col7\" class=\"data row14 col7\" >0</td>\n",
              "      <td id=\"T_986dc_row14_col8\" class=\"data row14 col8\" >69</td>\n",
              "      <td id=\"T_986dc_row14_col9\" class=\"data row14 col9\" >248</td>\n",
              "      <td id=\"T_986dc_row14_col10\" class=\"data row14 col10\" >253</td>\n",
              "      <td id=\"T_986dc_row14_col11\" class=\"data row14 col11\" >112</td>\n",
              "      <td id=\"T_986dc_row14_col12\" class=\"data row14 col12\" >60</td>\n",
              "      <td id=\"T_986dc_row14_col13\" class=\"data row14 col13\" >46</td>\n",
              "      <td id=\"T_986dc_row14_col14\" class=\"data row14 col14\" >19</td>\n",
              "      <td id=\"T_986dc_row14_col15\" class=\"data row14 col15\" >223</td>\n",
              "      <td id=\"T_986dc_row14_col16\" class=\"data row14 col16\" >254</td>\n",
              "      <td id=\"T_986dc_row14_col17\" class=\"data row14 col17\" >254</td>\n",
              "      <td id=\"T_986dc_row14_col18\" class=\"data row14 col18\" >255</td>\n",
              "      <td id=\"T_986dc_row14_col19\" class=\"data row14 col19\" >89</td>\n",
              "      <td id=\"T_986dc_row14_col20\" class=\"data row14 col20\" >0</td>\n",
              "      <td id=\"T_986dc_row14_col21\" class=\"data row14 col21\" >0</td>\n",
              "      <td id=\"T_986dc_row14_col22\" class=\"data row14 col22\" >0</td>\n",
              "      <td id=\"T_986dc_row14_col23\" class=\"data row14 col23\" >0</td>\n",
              "      <td id=\"T_986dc_row14_col24\" class=\"data row14 col24\" >0</td>\n",
              "      <td id=\"T_986dc_row14_col25\" class=\"data row14 col25\" >0</td>\n",
              "      <td id=\"T_986dc_row14_col26\" class=\"data row14 col26\" >0</td>\n",
              "      <td id=\"T_986dc_row14_col27\" class=\"data row14 col27\" >0</td>\n",
              "    </tr>\n",
              "    <tr>\n",
              "      <th id=\"T_986dc_level0_row15\" class=\"row_heading level0 row15\" >15</th>\n",
              "      <td id=\"T_986dc_row15_col0\" class=\"data row15 col0\" >0</td>\n",
              "      <td id=\"T_986dc_row15_col1\" class=\"data row15 col1\" >0</td>\n",
              "      <td id=\"T_986dc_row15_col2\" class=\"data row15 col2\" >0</td>\n",
              "      <td id=\"T_986dc_row15_col3\" class=\"data row15 col3\" >0</td>\n",
              "      <td id=\"T_986dc_row15_col4\" class=\"data row15 col4\" >0</td>\n",
              "      <td id=\"T_986dc_row15_col5\" class=\"data row15 col5\" >0</td>\n",
              "      <td id=\"T_986dc_row15_col6\" class=\"data row15 col6\" >0</td>\n",
              "      <td id=\"T_986dc_row15_col7\" class=\"data row15 col7\" >0</td>\n",
              "      <td id=\"T_986dc_row15_col8\" class=\"data row15 col8\" >0</td>\n",
              "      <td id=\"T_986dc_row15_col9\" class=\"data row15 col9\" >226</td>\n",
              "      <td id=\"T_986dc_row15_col10\" class=\"data row15 col10\" >254</td>\n",
              "      <td id=\"T_986dc_row15_col11\" class=\"data row15 col11\" >254</td>\n",
              "      <td id=\"T_986dc_row15_col12\" class=\"data row15 col12\" >254</td>\n",
              "      <td id=\"T_986dc_row15_col13\" class=\"data row15 col13\" >241</td>\n",
              "      <td id=\"T_986dc_row15_col14\" class=\"data row15 col14\" >214</td>\n",
              "      <td id=\"T_986dc_row15_col15\" class=\"data row15 col15\" >254</td>\n",
              "      <td id=\"T_986dc_row15_col16\" class=\"data row15 col16\" >254</td>\n",
              "      <td id=\"T_986dc_row15_col17\" class=\"data row15 col17\" >254</td>\n",
              "      <td id=\"T_986dc_row15_col18\" class=\"data row15 col18\" >245</td>\n",
              "      <td id=\"T_986dc_row15_col19\" class=\"data row15 col19\" >62</td>\n",
              "      <td id=\"T_986dc_row15_col20\" class=\"data row15 col20\" >0</td>\n",
              "      <td id=\"T_986dc_row15_col21\" class=\"data row15 col21\" >0</td>\n",
              "      <td id=\"T_986dc_row15_col22\" class=\"data row15 col22\" >0</td>\n",
              "      <td id=\"T_986dc_row15_col23\" class=\"data row15 col23\" >0</td>\n",
              "      <td id=\"T_986dc_row15_col24\" class=\"data row15 col24\" >0</td>\n",
              "      <td id=\"T_986dc_row15_col25\" class=\"data row15 col25\" >0</td>\n",
              "      <td id=\"T_986dc_row15_col26\" class=\"data row15 col26\" >0</td>\n",
              "      <td id=\"T_986dc_row15_col27\" class=\"data row15 col27\" >0</td>\n",
              "    </tr>\n",
              "    <tr>\n",
              "      <th id=\"T_986dc_level0_row16\" class=\"row_heading level0 row16\" >16</th>\n",
              "      <td id=\"T_986dc_row16_col0\" class=\"data row16 col0\" >0</td>\n",
              "      <td id=\"T_986dc_row16_col1\" class=\"data row16 col1\" >0</td>\n",
              "      <td id=\"T_986dc_row16_col2\" class=\"data row16 col2\" >0</td>\n",
              "      <td id=\"T_986dc_row16_col3\" class=\"data row16 col3\" >0</td>\n",
              "      <td id=\"T_986dc_row16_col4\" class=\"data row16 col4\" >0</td>\n",
              "      <td id=\"T_986dc_row16_col5\" class=\"data row16 col5\" >0</td>\n",
              "      <td id=\"T_986dc_row16_col6\" class=\"data row16 col6\" >0</td>\n",
              "      <td id=\"T_986dc_row16_col7\" class=\"data row16 col7\" >0</td>\n",
              "      <td id=\"T_986dc_row16_col8\" class=\"data row16 col8\" >0</td>\n",
              "      <td id=\"T_986dc_row16_col9\" class=\"data row16 col9\" >87</td>\n",
              "      <td id=\"T_986dc_row16_col10\" class=\"data row16 col10\" >206</td>\n",
              "      <td id=\"T_986dc_row16_col11\" class=\"data row16 col11\" >254</td>\n",
              "      <td id=\"T_986dc_row16_col12\" class=\"data row16 col12\" >254</td>\n",
              "      <td id=\"T_986dc_row16_col13\" class=\"data row16 col13\" >255</td>\n",
              "      <td id=\"T_986dc_row16_col14\" class=\"data row16 col14\" >254</td>\n",
              "      <td id=\"T_986dc_row16_col15\" class=\"data row16 col15\" >255</td>\n",
              "      <td id=\"T_986dc_row16_col16\" class=\"data row16 col16\" >254</td>\n",
              "      <td id=\"T_986dc_row16_col17\" class=\"data row16 col17\" >200</td>\n",
              "      <td id=\"T_986dc_row16_col18\" class=\"data row16 col18\" >36</td>\n",
              "      <td id=\"T_986dc_row16_col19\" class=\"data row16 col19\" >0</td>\n",
              "      <td id=\"T_986dc_row16_col20\" class=\"data row16 col20\" >0</td>\n",
              "      <td id=\"T_986dc_row16_col21\" class=\"data row16 col21\" >0</td>\n",
              "      <td id=\"T_986dc_row16_col22\" class=\"data row16 col22\" >0</td>\n",
              "      <td id=\"T_986dc_row16_col23\" class=\"data row16 col23\" >0</td>\n",
              "      <td id=\"T_986dc_row16_col24\" class=\"data row16 col24\" >0</td>\n",
              "      <td id=\"T_986dc_row16_col25\" class=\"data row16 col25\" >0</td>\n",
              "      <td id=\"T_986dc_row16_col26\" class=\"data row16 col26\" >0</td>\n",
              "      <td id=\"T_986dc_row16_col27\" class=\"data row16 col27\" >0</td>\n",
              "    </tr>\n",
              "    <tr>\n",
              "      <th id=\"T_986dc_level0_row17\" class=\"row_heading level0 row17\" >17</th>\n",
              "      <td id=\"T_986dc_row17_col0\" class=\"data row17 col0\" >0</td>\n",
              "      <td id=\"T_986dc_row17_col1\" class=\"data row17 col1\" >0</td>\n",
              "      <td id=\"T_986dc_row17_col2\" class=\"data row17 col2\" >0</td>\n",
              "      <td id=\"T_986dc_row17_col3\" class=\"data row17 col3\" >0</td>\n",
              "      <td id=\"T_986dc_row17_col4\" class=\"data row17 col4\" >0</td>\n",
              "      <td id=\"T_986dc_row17_col5\" class=\"data row17 col5\" >0</td>\n",
              "      <td id=\"T_986dc_row17_col6\" class=\"data row17 col6\" >0</td>\n",
              "      <td id=\"T_986dc_row17_col7\" class=\"data row17 col7\" >0</td>\n",
              "      <td id=\"T_986dc_row17_col8\" class=\"data row17 col8\" >0</td>\n",
              "      <td id=\"T_986dc_row17_col9\" class=\"data row17 col9\" >0</td>\n",
              "      <td id=\"T_986dc_row17_col10\" class=\"data row17 col10\" >12</td>\n",
              "      <td id=\"T_986dc_row17_col11\" class=\"data row17 col11\" >23</td>\n",
              "      <td id=\"T_986dc_row17_col12\" class=\"data row17 col12\" >23</td>\n",
              "      <td id=\"T_986dc_row17_col13\" class=\"data row17 col13\" >23</td>\n",
              "      <td id=\"T_986dc_row17_col14\" class=\"data row17 col14\" >115</td>\n",
              "      <td id=\"T_986dc_row17_col15\" class=\"data row17 col15\" >237</td>\n",
              "      <td id=\"T_986dc_row17_col16\" class=\"data row17 col16\" >254</td>\n",
              "      <td id=\"T_986dc_row17_col17\" class=\"data row17 col17\" >124</td>\n",
              "      <td id=\"T_986dc_row17_col18\" class=\"data row17 col18\" >0</td>\n",
              "      <td id=\"T_986dc_row17_col19\" class=\"data row17 col19\" >0</td>\n",
              "      <td id=\"T_986dc_row17_col20\" class=\"data row17 col20\" >0</td>\n",
              "      <td id=\"T_986dc_row17_col21\" class=\"data row17 col21\" >0</td>\n",
              "      <td id=\"T_986dc_row17_col22\" class=\"data row17 col22\" >0</td>\n",
              "      <td id=\"T_986dc_row17_col23\" class=\"data row17 col23\" >0</td>\n",
              "      <td id=\"T_986dc_row17_col24\" class=\"data row17 col24\" >0</td>\n",
              "      <td id=\"T_986dc_row17_col25\" class=\"data row17 col25\" >0</td>\n",
              "      <td id=\"T_986dc_row17_col26\" class=\"data row17 col26\" >0</td>\n",
              "      <td id=\"T_986dc_row17_col27\" class=\"data row17 col27\" >0</td>\n",
              "    </tr>\n",
              "    <tr>\n",
              "      <th id=\"T_986dc_level0_row18\" class=\"row_heading level0 row18\" >18</th>\n",
              "      <td id=\"T_986dc_row18_col0\" class=\"data row18 col0\" >0</td>\n",
              "      <td id=\"T_986dc_row18_col1\" class=\"data row18 col1\" >0</td>\n",
              "      <td id=\"T_986dc_row18_col2\" class=\"data row18 col2\" >0</td>\n",
              "      <td id=\"T_986dc_row18_col3\" class=\"data row18 col3\" >0</td>\n",
              "      <td id=\"T_986dc_row18_col4\" class=\"data row18 col4\" >0</td>\n",
              "      <td id=\"T_986dc_row18_col5\" class=\"data row18 col5\" >0</td>\n",
              "      <td id=\"T_986dc_row18_col6\" class=\"data row18 col6\" >0</td>\n",
              "      <td id=\"T_986dc_row18_col7\" class=\"data row18 col7\" >0</td>\n",
              "      <td id=\"T_986dc_row18_col8\" class=\"data row18 col8\" >0</td>\n",
              "      <td id=\"T_986dc_row18_col9\" class=\"data row18 col9\" >0</td>\n",
              "      <td id=\"T_986dc_row18_col10\" class=\"data row18 col10\" >0</td>\n",
              "      <td id=\"T_986dc_row18_col11\" class=\"data row18 col11\" >0</td>\n",
              "      <td id=\"T_986dc_row18_col12\" class=\"data row18 col12\" >0</td>\n",
              "      <td id=\"T_986dc_row18_col13\" class=\"data row18 col13\" >0</td>\n",
              "      <td id=\"T_986dc_row18_col14\" class=\"data row18 col14\" >0</td>\n",
              "      <td id=\"T_986dc_row18_col15\" class=\"data row18 col15\" >214</td>\n",
              "      <td id=\"T_986dc_row18_col16\" class=\"data row18 col16\" >254</td>\n",
              "      <td id=\"T_986dc_row18_col17\" class=\"data row18 col17\" >124</td>\n",
              "      <td id=\"T_986dc_row18_col18\" class=\"data row18 col18\" >0</td>\n",
              "      <td id=\"T_986dc_row18_col19\" class=\"data row18 col19\" >0</td>\n",
              "      <td id=\"T_986dc_row18_col20\" class=\"data row18 col20\" >0</td>\n",
              "      <td id=\"T_986dc_row18_col21\" class=\"data row18 col21\" >0</td>\n",
              "      <td id=\"T_986dc_row18_col22\" class=\"data row18 col22\" >0</td>\n",
              "      <td id=\"T_986dc_row18_col23\" class=\"data row18 col23\" >0</td>\n",
              "      <td id=\"T_986dc_row18_col24\" class=\"data row18 col24\" >0</td>\n",
              "      <td id=\"T_986dc_row18_col25\" class=\"data row18 col25\" >0</td>\n",
              "      <td id=\"T_986dc_row18_col26\" class=\"data row18 col26\" >0</td>\n",
              "      <td id=\"T_986dc_row18_col27\" class=\"data row18 col27\" >0</td>\n",
              "    </tr>\n",
              "    <tr>\n",
              "      <th id=\"T_986dc_level0_row19\" class=\"row_heading level0 row19\" >19</th>\n",
              "      <td id=\"T_986dc_row19_col0\" class=\"data row19 col0\" >0</td>\n",
              "      <td id=\"T_986dc_row19_col1\" class=\"data row19 col1\" >0</td>\n",
              "      <td id=\"T_986dc_row19_col2\" class=\"data row19 col2\" >0</td>\n",
              "      <td id=\"T_986dc_row19_col3\" class=\"data row19 col3\" >0</td>\n",
              "      <td id=\"T_986dc_row19_col4\" class=\"data row19 col4\" >0</td>\n",
              "      <td id=\"T_986dc_row19_col5\" class=\"data row19 col5\" >0</td>\n",
              "      <td id=\"T_986dc_row19_col6\" class=\"data row19 col6\" >0</td>\n",
              "      <td id=\"T_986dc_row19_col7\" class=\"data row19 col7\" >0</td>\n",
              "      <td id=\"T_986dc_row19_col8\" class=\"data row19 col8\" >0</td>\n",
              "      <td id=\"T_986dc_row19_col9\" class=\"data row19 col9\" >0</td>\n",
              "      <td id=\"T_986dc_row19_col10\" class=\"data row19 col10\" >0</td>\n",
              "      <td id=\"T_986dc_row19_col11\" class=\"data row19 col11\" >0</td>\n",
              "      <td id=\"T_986dc_row19_col12\" class=\"data row19 col12\" >0</td>\n",
              "      <td id=\"T_986dc_row19_col13\" class=\"data row19 col13\" >0</td>\n",
              "      <td id=\"T_986dc_row19_col14\" class=\"data row19 col14\" >0</td>\n",
              "      <td id=\"T_986dc_row19_col15\" class=\"data row19 col15\" >214</td>\n",
              "      <td id=\"T_986dc_row19_col16\" class=\"data row19 col16\" >254</td>\n",
              "      <td id=\"T_986dc_row19_col17\" class=\"data row19 col17\" >124</td>\n",
              "      <td id=\"T_986dc_row19_col18\" class=\"data row19 col18\" >0</td>\n",
              "      <td id=\"T_986dc_row19_col19\" class=\"data row19 col19\" >0</td>\n",
              "      <td id=\"T_986dc_row19_col20\" class=\"data row19 col20\" >0</td>\n",
              "      <td id=\"T_986dc_row19_col21\" class=\"data row19 col21\" >0</td>\n",
              "      <td id=\"T_986dc_row19_col22\" class=\"data row19 col22\" >0</td>\n",
              "      <td id=\"T_986dc_row19_col23\" class=\"data row19 col23\" >0</td>\n",
              "      <td id=\"T_986dc_row19_col24\" class=\"data row19 col24\" >0</td>\n",
              "      <td id=\"T_986dc_row19_col25\" class=\"data row19 col25\" >0</td>\n",
              "      <td id=\"T_986dc_row19_col26\" class=\"data row19 col26\" >0</td>\n",
              "      <td id=\"T_986dc_row19_col27\" class=\"data row19 col27\" >0</td>\n",
              "    </tr>\n",
              "    <tr>\n",
              "      <th id=\"T_986dc_level0_row20\" class=\"row_heading level0 row20\" >20</th>\n",
              "      <td id=\"T_986dc_row20_col0\" class=\"data row20 col0\" >0</td>\n",
              "      <td id=\"T_986dc_row20_col1\" class=\"data row20 col1\" >0</td>\n",
              "      <td id=\"T_986dc_row20_col2\" class=\"data row20 col2\" >0</td>\n",
              "      <td id=\"T_986dc_row20_col3\" class=\"data row20 col3\" >0</td>\n",
              "      <td id=\"T_986dc_row20_col4\" class=\"data row20 col4\" >0</td>\n",
              "      <td id=\"T_986dc_row20_col5\" class=\"data row20 col5\" >0</td>\n",
              "      <td id=\"T_986dc_row20_col6\" class=\"data row20 col6\" >0</td>\n",
              "      <td id=\"T_986dc_row20_col7\" class=\"data row20 col7\" >0</td>\n",
              "      <td id=\"T_986dc_row20_col8\" class=\"data row20 col8\" >0</td>\n",
              "      <td id=\"T_986dc_row20_col9\" class=\"data row20 col9\" >0</td>\n",
              "      <td id=\"T_986dc_row20_col10\" class=\"data row20 col10\" >0</td>\n",
              "      <td id=\"T_986dc_row20_col11\" class=\"data row20 col11\" >0</td>\n",
              "      <td id=\"T_986dc_row20_col12\" class=\"data row20 col12\" >0</td>\n",
              "      <td id=\"T_986dc_row20_col13\" class=\"data row20 col13\" >0</td>\n",
              "      <td id=\"T_986dc_row20_col14\" class=\"data row20 col14\" >0</td>\n",
              "      <td id=\"T_986dc_row20_col15\" class=\"data row20 col15\" >214</td>\n",
              "      <td id=\"T_986dc_row20_col16\" class=\"data row20 col16\" >254</td>\n",
              "      <td id=\"T_986dc_row20_col17\" class=\"data row20 col17\" >124</td>\n",
              "      <td id=\"T_986dc_row20_col18\" class=\"data row20 col18\" >0</td>\n",
              "      <td id=\"T_986dc_row20_col19\" class=\"data row20 col19\" >0</td>\n",
              "      <td id=\"T_986dc_row20_col20\" class=\"data row20 col20\" >0</td>\n",
              "      <td id=\"T_986dc_row20_col21\" class=\"data row20 col21\" >0</td>\n",
              "      <td id=\"T_986dc_row20_col22\" class=\"data row20 col22\" >0</td>\n",
              "      <td id=\"T_986dc_row20_col23\" class=\"data row20 col23\" >0</td>\n",
              "      <td id=\"T_986dc_row20_col24\" class=\"data row20 col24\" >0</td>\n",
              "      <td id=\"T_986dc_row20_col25\" class=\"data row20 col25\" >0</td>\n",
              "      <td id=\"T_986dc_row20_col26\" class=\"data row20 col26\" >0</td>\n",
              "      <td id=\"T_986dc_row20_col27\" class=\"data row20 col27\" >0</td>\n",
              "    </tr>\n",
              "    <tr>\n",
              "      <th id=\"T_986dc_level0_row21\" class=\"row_heading level0 row21\" >21</th>\n",
              "      <td id=\"T_986dc_row21_col0\" class=\"data row21 col0\" >0</td>\n",
              "      <td id=\"T_986dc_row21_col1\" class=\"data row21 col1\" >0</td>\n",
              "      <td id=\"T_986dc_row21_col2\" class=\"data row21 col2\" >0</td>\n",
              "      <td id=\"T_986dc_row21_col3\" class=\"data row21 col3\" >0</td>\n",
              "      <td id=\"T_986dc_row21_col4\" class=\"data row21 col4\" >0</td>\n",
              "      <td id=\"T_986dc_row21_col5\" class=\"data row21 col5\" >0</td>\n",
              "      <td id=\"T_986dc_row21_col6\" class=\"data row21 col6\" >0</td>\n",
              "      <td id=\"T_986dc_row21_col7\" class=\"data row21 col7\" >0</td>\n",
              "      <td id=\"T_986dc_row21_col8\" class=\"data row21 col8\" >0</td>\n",
              "      <td id=\"T_986dc_row21_col9\" class=\"data row21 col9\" >0</td>\n",
              "      <td id=\"T_986dc_row21_col10\" class=\"data row21 col10\" >0</td>\n",
              "      <td id=\"T_986dc_row21_col11\" class=\"data row21 col11\" >0</td>\n",
              "      <td id=\"T_986dc_row21_col12\" class=\"data row21 col12\" >0</td>\n",
              "      <td id=\"T_986dc_row21_col13\" class=\"data row21 col13\" >0</td>\n",
              "      <td id=\"T_986dc_row21_col14\" class=\"data row21 col14\" >0</td>\n",
              "      <td id=\"T_986dc_row21_col15\" class=\"data row21 col15\" >214</td>\n",
              "      <td id=\"T_986dc_row21_col16\" class=\"data row21 col16\" >254</td>\n",
              "      <td id=\"T_986dc_row21_col17\" class=\"data row21 col17\" >124</td>\n",
              "      <td id=\"T_986dc_row21_col18\" class=\"data row21 col18\" >0</td>\n",
              "      <td id=\"T_986dc_row21_col19\" class=\"data row21 col19\" >0</td>\n",
              "      <td id=\"T_986dc_row21_col20\" class=\"data row21 col20\" >0</td>\n",
              "      <td id=\"T_986dc_row21_col21\" class=\"data row21 col21\" >0</td>\n",
              "      <td id=\"T_986dc_row21_col22\" class=\"data row21 col22\" >0</td>\n",
              "      <td id=\"T_986dc_row21_col23\" class=\"data row21 col23\" >0</td>\n",
              "      <td id=\"T_986dc_row21_col24\" class=\"data row21 col24\" >0</td>\n",
              "      <td id=\"T_986dc_row21_col25\" class=\"data row21 col25\" >0</td>\n",
              "      <td id=\"T_986dc_row21_col26\" class=\"data row21 col26\" >0</td>\n",
              "      <td id=\"T_986dc_row21_col27\" class=\"data row21 col27\" >0</td>\n",
              "    </tr>\n",
              "    <tr>\n",
              "      <th id=\"T_986dc_level0_row22\" class=\"row_heading level0 row22\" >22</th>\n",
              "      <td id=\"T_986dc_row22_col0\" class=\"data row22 col0\" >0</td>\n",
              "      <td id=\"T_986dc_row22_col1\" class=\"data row22 col1\" >0</td>\n",
              "      <td id=\"T_986dc_row22_col2\" class=\"data row22 col2\" >0</td>\n",
              "      <td id=\"T_986dc_row22_col3\" class=\"data row22 col3\" >0</td>\n",
              "      <td id=\"T_986dc_row22_col4\" class=\"data row22 col4\" >0</td>\n",
              "      <td id=\"T_986dc_row22_col5\" class=\"data row22 col5\" >0</td>\n",
              "      <td id=\"T_986dc_row22_col6\" class=\"data row22 col6\" >0</td>\n",
              "      <td id=\"T_986dc_row22_col7\" class=\"data row22 col7\" >0</td>\n",
              "      <td id=\"T_986dc_row22_col8\" class=\"data row22 col8\" >0</td>\n",
              "      <td id=\"T_986dc_row22_col9\" class=\"data row22 col9\" >0</td>\n",
              "      <td id=\"T_986dc_row22_col10\" class=\"data row22 col10\" >0</td>\n",
              "      <td id=\"T_986dc_row22_col11\" class=\"data row22 col11\" >0</td>\n",
              "      <td id=\"T_986dc_row22_col12\" class=\"data row22 col12\" >0</td>\n",
              "      <td id=\"T_986dc_row22_col13\" class=\"data row22 col13\" >0</td>\n",
              "      <td id=\"T_986dc_row22_col14\" class=\"data row22 col14\" >0</td>\n",
              "      <td id=\"T_986dc_row22_col15\" class=\"data row22 col15\" >214</td>\n",
              "      <td id=\"T_986dc_row22_col16\" class=\"data row22 col16\" >254</td>\n",
              "      <td id=\"T_986dc_row22_col17\" class=\"data row22 col17\" >218</td>\n",
              "      <td id=\"T_986dc_row22_col18\" class=\"data row22 col18\" >0</td>\n",
              "      <td id=\"T_986dc_row22_col19\" class=\"data row22 col19\" >0</td>\n",
              "      <td id=\"T_986dc_row22_col20\" class=\"data row22 col20\" >0</td>\n",
              "      <td id=\"T_986dc_row22_col21\" class=\"data row22 col21\" >0</td>\n",
              "      <td id=\"T_986dc_row22_col22\" class=\"data row22 col22\" >0</td>\n",
              "      <td id=\"T_986dc_row22_col23\" class=\"data row22 col23\" >0</td>\n",
              "      <td id=\"T_986dc_row22_col24\" class=\"data row22 col24\" >0</td>\n",
              "      <td id=\"T_986dc_row22_col25\" class=\"data row22 col25\" >0</td>\n",
              "      <td id=\"T_986dc_row22_col26\" class=\"data row22 col26\" >0</td>\n",
              "      <td id=\"T_986dc_row22_col27\" class=\"data row22 col27\" >0</td>\n",
              "    </tr>\n",
              "    <tr>\n",
              "      <th id=\"T_986dc_level0_row23\" class=\"row_heading level0 row23\" >23</th>\n",
              "      <td id=\"T_986dc_row23_col0\" class=\"data row23 col0\" >0</td>\n",
              "      <td id=\"T_986dc_row23_col1\" class=\"data row23 col1\" >0</td>\n",
              "      <td id=\"T_986dc_row23_col2\" class=\"data row23 col2\" >0</td>\n",
              "      <td id=\"T_986dc_row23_col3\" class=\"data row23 col3\" >0</td>\n",
              "      <td id=\"T_986dc_row23_col4\" class=\"data row23 col4\" >0</td>\n",
              "      <td id=\"T_986dc_row23_col5\" class=\"data row23 col5\" >0</td>\n",
              "      <td id=\"T_986dc_row23_col6\" class=\"data row23 col6\" >0</td>\n",
              "      <td id=\"T_986dc_row23_col7\" class=\"data row23 col7\" >0</td>\n",
              "      <td id=\"T_986dc_row23_col8\" class=\"data row23 col8\" >0</td>\n",
              "      <td id=\"T_986dc_row23_col9\" class=\"data row23 col9\" >0</td>\n",
              "      <td id=\"T_986dc_row23_col10\" class=\"data row23 col10\" >0</td>\n",
              "      <td id=\"T_986dc_row23_col11\" class=\"data row23 col11\" >0</td>\n",
              "      <td id=\"T_986dc_row23_col12\" class=\"data row23 col12\" >0</td>\n",
              "      <td id=\"T_986dc_row23_col13\" class=\"data row23 col13\" >0</td>\n",
              "      <td id=\"T_986dc_row23_col14\" class=\"data row23 col14\" >0</td>\n",
              "      <td id=\"T_986dc_row23_col15\" class=\"data row23 col15\" >167</td>\n",
              "      <td id=\"T_986dc_row23_col16\" class=\"data row23 col16\" >254</td>\n",
              "      <td id=\"T_986dc_row23_col17\" class=\"data row23 col17\" >248</td>\n",
              "      <td id=\"T_986dc_row23_col18\" class=\"data row23 col18\" >50</td>\n",
              "      <td id=\"T_986dc_row23_col19\" class=\"data row23 col19\" >0</td>\n",
              "      <td id=\"T_986dc_row23_col20\" class=\"data row23 col20\" >0</td>\n",
              "      <td id=\"T_986dc_row23_col21\" class=\"data row23 col21\" >0</td>\n",
              "      <td id=\"T_986dc_row23_col22\" class=\"data row23 col22\" >0</td>\n",
              "      <td id=\"T_986dc_row23_col23\" class=\"data row23 col23\" >0</td>\n",
              "      <td id=\"T_986dc_row23_col24\" class=\"data row23 col24\" >0</td>\n",
              "      <td id=\"T_986dc_row23_col25\" class=\"data row23 col25\" >0</td>\n",
              "      <td id=\"T_986dc_row23_col26\" class=\"data row23 col26\" >0</td>\n",
              "      <td id=\"T_986dc_row23_col27\" class=\"data row23 col27\" >0</td>\n",
              "    </tr>\n",
              "    <tr>\n",
              "      <th id=\"T_986dc_level0_row24\" class=\"row_heading level0 row24\" >24</th>\n",
              "      <td id=\"T_986dc_row24_col0\" class=\"data row24 col0\" >0</td>\n",
              "      <td id=\"T_986dc_row24_col1\" class=\"data row24 col1\" >0</td>\n",
              "      <td id=\"T_986dc_row24_col2\" class=\"data row24 col2\" >0</td>\n",
              "      <td id=\"T_986dc_row24_col3\" class=\"data row24 col3\" >0</td>\n",
              "      <td id=\"T_986dc_row24_col4\" class=\"data row24 col4\" >0</td>\n",
              "      <td id=\"T_986dc_row24_col5\" class=\"data row24 col5\" >0</td>\n",
              "      <td id=\"T_986dc_row24_col6\" class=\"data row24 col6\" >0</td>\n",
              "      <td id=\"T_986dc_row24_col7\" class=\"data row24 col7\" >0</td>\n",
              "      <td id=\"T_986dc_row24_col8\" class=\"data row24 col8\" >0</td>\n",
              "      <td id=\"T_986dc_row24_col9\" class=\"data row24 col9\" >0</td>\n",
              "      <td id=\"T_986dc_row24_col10\" class=\"data row24 col10\" >0</td>\n",
              "      <td id=\"T_986dc_row24_col11\" class=\"data row24 col11\" >0</td>\n",
              "      <td id=\"T_986dc_row24_col12\" class=\"data row24 col12\" >0</td>\n",
              "      <td id=\"T_986dc_row24_col13\" class=\"data row24 col13\" >0</td>\n",
              "      <td id=\"T_986dc_row24_col14\" class=\"data row24 col14\" >0</td>\n",
              "      <td id=\"T_986dc_row24_col15\" class=\"data row24 col15\" >7</td>\n",
              "      <td id=\"T_986dc_row24_col16\" class=\"data row24 col16\" >233</td>\n",
              "      <td id=\"T_986dc_row24_col17\" class=\"data row24 col17\" >243</td>\n",
              "      <td id=\"T_986dc_row24_col18\" class=\"data row24 col18\" >0</td>\n",
              "      <td id=\"T_986dc_row24_col19\" class=\"data row24 col19\" >0</td>\n",
              "      <td id=\"T_986dc_row24_col20\" class=\"data row24 col20\" >0</td>\n",
              "      <td id=\"T_986dc_row24_col21\" class=\"data row24 col21\" >0</td>\n",
              "      <td id=\"T_986dc_row24_col22\" class=\"data row24 col22\" >0</td>\n",
              "      <td id=\"T_986dc_row24_col23\" class=\"data row24 col23\" >0</td>\n",
              "      <td id=\"T_986dc_row24_col24\" class=\"data row24 col24\" >0</td>\n",
              "      <td id=\"T_986dc_row24_col25\" class=\"data row24 col25\" >0</td>\n",
              "      <td id=\"T_986dc_row24_col26\" class=\"data row24 col26\" >0</td>\n",
              "      <td id=\"T_986dc_row24_col27\" class=\"data row24 col27\" >0</td>\n",
              "    </tr>\n",
              "    <tr>\n",
              "      <th id=\"T_986dc_level0_row25\" class=\"row_heading level0 row25\" >25</th>\n",
              "      <td id=\"T_986dc_row25_col0\" class=\"data row25 col0\" >0</td>\n",
              "      <td id=\"T_986dc_row25_col1\" class=\"data row25 col1\" >0</td>\n",
              "      <td id=\"T_986dc_row25_col2\" class=\"data row25 col2\" >0</td>\n",
              "      <td id=\"T_986dc_row25_col3\" class=\"data row25 col3\" >0</td>\n",
              "      <td id=\"T_986dc_row25_col4\" class=\"data row25 col4\" >0</td>\n",
              "      <td id=\"T_986dc_row25_col5\" class=\"data row25 col5\" >0</td>\n",
              "      <td id=\"T_986dc_row25_col6\" class=\"data row25 col6\" >0</td>\n",
              "      <td id=\"T_986dc_row25_col7\" class=\"data row25 col7\" >0</td>\n",
              "      <td id=\"T_986dc_row25_col8\" class=\"data row25 col8\" >0</td>\n",
              "      <td id=\"T_986dc_row25_col9\" class=\"data row25 col9\" >0</td>\n",
              "      <td id=\"T_986dc_row25_col10\" class=\"data row25 col10\" >0</td>\n",
              "      <td id=\"T_986dc_row25_col11\" class=\"data row25 col11\" >0</td>\n",
              "      <td id=\"T_986dc_row25_col12\" class=\"data row25 col12\" >0</td>\n",
              "      <td id=\"T_986dc_row25_col13\" class=\"data row25 col13\" >0</td>\n",
              "      <td id=\"T_986dc_row25_col14\" class=\"data row25 col14\" >0</td>\n",
              "      <td id=\"T_986dc_row25_col15\" class=\"data row25 col15\" >0</td>\n",
              "      <td id=\"T_986dc_row25_col16\" class=\"data row25 col16\" >0</td>\n",
              "      <td id=\"T_986dc_row25_col17\" class=\"data row25 col17\" >0</td>\n",
              "      <td id=\"T_986dc_row25_col18\" class=\"data row25 col18\" >0</td>\n",
              "      <td id=\"T_986dc_row25_col19\" class=\"data row25 col19\" >0</td>\n",
              "      <td id=\"T_986dc_row25_col20\" class=\"data row25 col20\" >0</td>\n",
              "      <td id=\"T_986dc_row25_col21\" class=\"data row25 col21\" >0</td>\n",
              "      <td id=\"T_986dc_row25_col22\" class=\"data row25 col22\" >0</td>\n",
              "      <td id=\"T_986dc_row25_col23\" class=\"data row25 col23\" >0</td>\n",
              "      <td id=\"T_986dc_row25_col24\" class=\"data row25 col24\" >0</td>\n",
              "      <td id=\"T_986dc_row25_col25\" class=\"data row25 col25\" >0</td>\n",
              "      <td id=\"T_986dc_row25_col26\" class=\"data row25 col26\" >0</td>\n",
              "      <td id=\"T_986dc_row25_col27\" class=\"data row25 col27\" >0</td>\n",
              "    </tr>\n",
              "    <tr>\n",
              "      <th id=\"T_986dc_level0_row26\" class=\"row_heading level0 row26\" >26</th>\n",
              "      <td id=\"T_986dc_row26_col0\" class=\"data row26 col0\" >0</td>\n",
              "      <td id=\"T_986dc_row26_col1\" class=\"data row26 col1\" >0</td>\n",
              "      <td id=\"T_986dc_row26_col2\" class=\"data row26 col2\" >0</td>\n",
              "      <td id=\"T_986dc_row26_col3\" class=\"data row26 col3\" >0</td>\n",
              "      <td id=\"T_986dc_row26_col4\" class=\"data row26 col4\" >0</td>\n",
              "      <td id=\"T_986dc_row26_col5\" class=\"data row26 col5\" >0</td>\n",
              "      <td id=\"T_986dc_row26_col6\" class=\"data row26 col6\" >0</td>\n",
              "      <td id=\"T_986dc_row26_col7\" class=\"data row26 col7\" >0</td>\n",
              "      <td id=\"T_986dc_row26_col8\" class=\"data row26 col8\" >0</td>\n",
              "      <td id=\"T_986dc_row26_col9\" class=\"data row26 col9\" >0</td>\n",
              "      <td id=\"T_986dc_row26_col10\" class=\"data row26 col10\" >0</td>\n",
              "      <td id=\"T_986dc_row26_col11\" class=\"data row26 col11\" >0</td>\n",
              "      <td id=\"T_986dc_row26_col12\" class=\"data row26 col12\" >0</td>\n",
              "      <td id=\"T_986dc_row26_col13\" class=\"data row26 col13\" >0</td>\n",
              "      <td id=\"T_986dc_row26_col14\" class=\"data row26 col14\" >0</td>\n",
              "      <td id=\"T_986dc_row26_col15\" class=\"data row26 col15\" >0</td>\n",
              "      <td id=\"T_986dc_row26_col16\" class=\"data row26 col16\" >0</td>\n",
              "      <td id=\"T_986dc_row26_col17\" class=\"data row26 col17\" >0</td>\n",
              "      <td id=\"T_986dc_row26_col18\" class=\"data row26 col18\" >0</td>\n",
              "      <td id=\"T_986dc_row26_col19\" class=\"data row26 col19\" >0</td>\n",
              "      <td id=\"T_986dc_row26_col20\" class=\"data row26 col20\" >0</td>\n",
              "      <td id=\"T_986dc_row26_col21\" class=\"data row26 col21\" >0</td>\n",
              "      <td id=\"T_986dc_row26_col22\" class=\"data row26 col22\" >0</td>\n",
              "      <td id=\"T_986dc_row26_col23\" class=\"data row26 col23\" >0</td>\n",
              "      <td id=\"T_986dc_row26_col24\" class=\"data row26 col24\" >0</td>\n",
              "      <td id=\"T_986dc_row26_col25\" class=\"data row26 col25\" >0</td>\n",
              "      <td id=\"T_986dc_row26_col26\" class=\"data row26 col26\" >0</td>\n",
              "      <td id=\"T_986dc_row26_col27\" class=\"data row26 col27\" >0</td>\n",
              "    </tr>\n",
              "    <tr>\n",
              "      <th id=\"T_986dc_level0_row27\" class=\"row_heading level0 row27\" >27</th>\n",
              "      <td id=\"T_986dc_row27_col0\" class=\"data row27 col0\" >0</td>\n",
              "      <td id=\"T_986dc_row27_col1\" class=\"data row27 col1\" >0</td>\n",
              "      <td id=\"T_986dc_row27_col2\" class=\"data row27 col2\" >0</td>\n",
              "      <td id=\"T_986dc_row27_col3\" class=\"data row27 col3\" >0</td>\n",
              "      <td id=\"T_986dc_row27_col4\" class=\"data row27 col4\" >0</td>\n",
              "      <td id=\"T_986dc_row27_col5\" class=\"data row27 col5\" >0</td>\n",
              "      <td id=\"T_986dc_row27_col6\" class=\"data row27 col6\" >0</td>\n",
              "      <td id=\"T_986dc_row27_col7\" class=\"data row27 col7\" >0</td>\n",
              "      <td id=\"T_986dc_row27_col8\" class=\"data row27 col8\" >0</td>\n",
              "      <td id=\"T_986dc_row27_col9\" class=\"data row27 col9\" >0</td>\n",
              "      <td id=\"T_986dc_row27_col10\" class=\"data row27 col10\" >0</td>\n",
              "      <td id=\"T_986dc_row27_col11\" class=\"data row27 col11\" >0</td>\n",
              "      <td id=\"T_986dc_row27_col12\" class=\"data row27 col12\" >0</td>\n",
              "      <td id=\"T_986dc_row27_col13\" class=\"data row27 col13\" >0</td>\n",
              "      <td id=\"T_986dc_row27_col14\" class=\"data row27 col14\" >0</td>\n",
              "      <td id=\"T_986dc_row27_col15\" class=\"data row27 col15\" >0</td>\n",
              "      <td id=\"T_986dc_row27_col16\" class=\"data row27 col16\" >0</td>\n",
              "      <td id=\"T_986dc_row27_col17\" class=\"data row27 col17\" >0</td>\n",
              "      <td id=\"T_986dc_row27_col18\" class=\"data row27 col18\" >0</td>\n",
              "      <td id=\"T_986dc_row27_col19\" class=\"data row27 col19\" >0</td>\n",
              "      <td id=\"T_986dc_row27_col20\" class=\"data row27 col20\" >0</td>\n",
              "      <td id=\"T_986dc_row27_col21\" class=\"data row27 col21\" >0</td>\n",
              "      <td id=\"T_986dc_row27_col22\" class=\"data row27 col22\" >0</td>\n",
              "      <td id=\"T_986dc_row27_col23\" class=\"data row27 col23\" >0</td>\n",
              "      <td id=\"T_986dc_row27_col24\" class=\"data row27 col24\" >0</td>\n",
              "      <td id=\"T_986dc_row27_col25\" class=\"data row27 col25\" >0</td>\n",
              "      <td id=\"T_986dc_row27_col26\" class=\"data row27 col26\" >0</td>\n",
              "      <td id=\"T_986dc_row27_col27\" class=\"data row27 col27\" >0</td>\n",
              "    </tr>\n",
              "  </tbody>\n",
              "</table>\n"
            ]
          },
          "metadata": {},
          "execution_count": 9
        }
      ]
    },
    {
      "cell_type": "code",
      "source": [
        "zero_tensors = [tensor(Image.open(o)) for o in zeroes]\n",
        "one_tensors = [tensor(Image.open(o)) for o in ones]\n",
        "two_tensors = [tensor(Image.open(o)) for o in twos]\n",
        "three_tensors = [tensor(Image.open(o)) for o in threes]\n",
        "four_tensors = [tensor(Image.open(o)) for o in fours]\n",
        "five_tensors = [tensor(Image.open(o)) for o in fives]\n",
        "six_tensors = [tensor(Image.open(o)) for o in sixes]\n",
        "seven_tensors = [tensor(Image.open(o)) for o in sevens]\n",
        "eight_tensors =[tensor(Image.open(o)) for o in eights]\n",
        "nine_tensors =[tensor(Image.open(o)) for o in nines]"
      ],
      "metadata": {
        "id": "obSLc5lL2nzz"
      },
      "execution_count": 10,
      "outputs": []
    },
    {
      "cell_type": "code",
      "source": [
        "len(three_tensors), len(seven_tensors), len(eight_tensors)"
      ],
      "metadata": {
        "colab": {
          "base_uri": "https://localhost:8080/"
        },
        "id": "myZmn_PxsgQy",
        "outputId": "290914f1-bcb0-48c4-e5ef-8b88e8808251"
      },
      "execution_count": 11,
      "outputs": [
        {
          "output_type": "execute_result",
          "data": {
            "text/plain": [
              "(6131, 6265, 5851)"
            ]
          },
          "metadata": {},
          "execution_count": 11
        }
      ]
    },
    {
      "cell_type": "code",
      "source": [
        "show_image(six_tensors[3])"
      ],
      "metadata": {
        "colab": {
          "base_uri": "https://localhost:8080/",
          "height": 102
        },
        "id": "JLPziQJZ3mMN",
        "outputId": "9916a511-ed45-4e8a-d420-a9943e2d704b"
      },
      "execution_count": 12,
      "outputs": [
        {
          "output_type": "execute_result",
          "data": {
            "text/plain": [
              "<matplotlib.axes._subplots.AxesSubplot at 0x7fba3a00f8d0>"
            ]
          },
          "metadata": {},
          "execution_count": 12
        },
        {
          "output_type": "display_data",
          "data": {
            "text/plain": [
              "<Figure size 72x72 with 1 Axes>"
            ],
            "image/png": "[encoded data removed]"
          },
          "metadata": {
            "needs_background": "light"
          }
        }
      ]
    },
    {
      "cell_type": "code",
      "source": [
        "stacked_zeroes = torch.stack(zero_tensors).float()/255\n",
        "stacked_ones = torch.stack(one_tensors).float()/255\n",
        "stacked_twos = torch.stack(two_tensors).float()/255\n",
        "stacked_threes = torch.stack(three_tensors).float()/255\n",
        "stacked_fours = torch.stack(four_tensors).float()/255\n",
        "stacked_fives = torch.stack(five_tensors).float()/255\n",
        "stacked_sixes = torch.stack(six_tensors).float()/255\n",
        "stacked_sevens = torch.stack(seven_tensors).float()/255\n",
        "stacked_eights = torch.stack(eight_tensors).float()/255\n",
        "stacked_nines = torch.stack(nine_tensors).float()/255"
      ],
      "metadata": {
        "id": "8JcfBFEv4BDl"
      },
      "execution_count": 13,
      "outputs": []
    },
    {
      "cell_type": "code",
      "source": [
        "stacked_eights.shape"
      ],
      "metadata": {
        "colab": {
          "base_uri": "https://localhost:8080/"
        },
        "id": "O3Ve21WB6Fuf",
        "outputId": "35693e6d-6f71-4cee-8399-162fdb2bc26e"
      },
      "execution_count": 15,
      "outputs": [
        {
          "output_type": "execute_result",
          "data": {
            "text/plain": [
              "torch.Size([5851, 28, 28])"
            ]
          },
          "metadata": {},
          "execution_count": 15
        }
      ]
    },
    {
      "cell_type": "code",
      "source": [
        "mean0 = stacked_zeroes.mean(0)\n",
        "show_image(mean0);\n",
        "\n",
        "mean1 = stacked_ones.mean(0)\n",
        "show_image(mean1);\n",
        "\n",
        "mean2 = stacked_twos.mean(0)\n",
        "show_image(mean2);\n",
        "\n",
        "mean3 = stacked_threes.mean(0)\n",
        "show_image(mean3);\n",
        "\n",
        "mean4 = stacked_fours.mean(0)\n",
        "show_image(mean4);\n",
        "\n",
        "mean5 = stacked_fives.mean(0)\n",
        "show_image(mean5);\n",
        "\n",
        "mean6 = stacked_sixes.mean(0)\n",
        "show_image(mean6);\n",
        "\n",
        "mean7 = stacked_sevens.mean(0)\n",
        "show_image(mean7);\n",
        "\n",
        "mean8 = stacked_eights.mean(0)\n",
        "show_image(mean8);\n",
        "\n",
        "mean9 = stacked_nines.mean(0)\n",
        "show_image(mean9);"
      ],
      "metadata": {
        "colab": {
          "base_uri": "https://localhost:8080/",
          "height": 697
        },
        "id": "cp1Ivc2W6S5P",
        "outputId": "fa190522-666e-48fc-9b3d-ab59c5ec47ca"
      },
      "execution_count": 16,
      "outputs": [
        {
          "output_type": "display_data",
          "data": {
            "text/plain": [
              "<Figure size 72x72 with 1 Axes>"
            ],
            "image/png": "[encoded data removed]"
          },
          "metadata": {
            "needs_background": "light"
          }
        },
        {
          "output_type": "display_data",
          "data": {
            "text/plain": [
              "<Figure size 72x72 with 1 Axes>"
            ],
            "image/png": "[encoded data removed]"
          },
          "metadata": {
            "needs_background": "light"
          }
        },
        {
          "output_type": "display_data",
          "data": {
            "text/plain": [
              "<Figure size 72x72 with 1 Axes>"
            ],
            "image/png": "[encoded data removed]"
          },
          "metadata": {
            "needs_background": "light"
          }
        },
        {
          "output_type": "display_data",
          "data": {
            "text/plain": [
              "<Figure size 72x72 with 1 Axes>"
            ],
            "image/png": "[encoded data removed]"
          },
          "metadata": {
            "needs_background": "light"
          }
        },
        {
          "output_type": "display_data",
          "data": {
            "text/plain": [
              "<Figure size 72x72 with 1 Axes>"
            ],
            "image/png": "[encoded data removed]"
          },
          "metadata": {
            "needs_background": "light"
          }
        },
        {
          "output_type": "display_data",
          "data": {
            "text/plain": [
              "<Figure size 72x72 with 1 Axes>"
            ],
            "image/png": "[encoded data removed]"
          },
          "metadata": {
            "needs_background": "light"
          }
        },
        {
          "output_type": "display_data",
          "data": {
            "text/plain": [
              "<Figure size 72x72 with 1 Axes>"
            ],
            "image/png": "[encoded data removed]"
          },
          "metadata": {
            "needs_background": "light"
          }
        },
        {
          "output_type": "display_data",
          "data": {
            "text/plain": [
              "<Figure size 72x72 with 1 Axes>"
            ],
            "image/png": "[encoded data removed]"
          },
          "metadata": {
            "needs_background": "light"
          }
        },
        {
          "output_type": "display_data",
          "data": {
            "text/plain": [
              "<Figure size 72x72 with 1 Axes>"
            ],
            "image/png": "[encoded data removed]"
          },
          "metadata": {
            "needs_background": "light"
          }
        },
        {
          "output_type": "display_data",
          "data": {
            "text/plain": [
              "<Figure size 72x72 with 1 Axes>"
            ],
            "image/png": "[encoded data removed]"
          },
          "metadata": {
            "needs_background": "light"
          }
        }
      ]
    },
    {
      "cell_type": "code",
      "source": [
        "a_3 = stacked_threes[1]\n",
        "dist_3_abs = (a_3 - mean3).abs().mean()\n",
        "dist_3_sqr = ((a_3 - mean3)**2).mean().sqrt()\n",
        "dist_3_abs,dist_3_sqr\n",
        "# a_3"
      ],
      "metadata": {
        "colab": {
          "base_uri": "https://localhost:8080/"
        },
        "id": "MRbPdWsG6Z8Z",
        "outputId": "94c9c820-2287-439f-e79a-e828922c5654"
      },
      "execution_count": 17,
      "outputs": [
        {
          "output_type": "execute_result",
          "data": {
            "text/plain": [
              "(tensor(0.1114), tensor(0.2021))"
            ]
          },
          "metadata": {},
          "execution_count": 17
        }
      ]
    },
    {
      "cell_type": "code",
      "source": [
        "valid_0_tens = torch.stack([tensor(Image.open(o)) \n",
        "                            for o in (path/'testing'/'0').ls()]).float()/255\n",
        "\n",
        "valid_1_tens = torch.stack([tensor(Image.open(o)) \n",
        "                            for o in (path/'testing'/'1').ls()]).float()/255\n",
        "\n",
        "valid_2_tens = torch.stack([tensor(Image.open(o)) \n",
        "                            for o in (path/'testing'/'2').ls()]).float()/255\n",
        "\n",
        "valid_3_tens = torch.stack([tensor(Image.open(o)) \n",
        "                            for o in (path/'testing'/'3').ls()]).float()/255\n",
        "\n",
        "valid_4_tens = torch.stack([tensor(Image.open(o)) \n",
        "                            for o in (path/'testing'/'4').ls()]).float()/255\n",
        "\n",
        "valid_5_tens = torch.stack([tensor(Image.open(o)) \n",
        "                            for o in (path/'testing'/'5').ls()]).float()/255\n",
        "\n",
        "valid_6_tens = torch.stack([tensor(Image.open(o)) \n",
        "                            for o in (path/'testing'/'6').ls()]).float()/255\n",
        "\n",
        "valid_7_tens = torch.stack([tensor(Image.open(o)) \n",
        "                            for o in (path/'testing'/'7').ls()]).float()/255\n",
        "\n",
        "valid_8_tens = torch.stack([tensor(Image.open(o)) \n",
        "                            for o in (path/'testing'/'8').ls()]).float()/255\n",
        "\n",
        "valid_9_tens = torch.stack([tensor(Image.open(o)) \n",
        "                            for o in (path/'testing'/'9').ls()]).float()/255\n",
        "\n",
        "valid_3_tens.shape,valid_7_tens.shape"
      ],
      "metadata": {
        "colab": {
          "base_uri": "https://localhost:8080/"
        },
        "id": "UfZQTksv6kFf",
        "outputId": "8fcd525b-1327-4a9d-dbda-68d48fb4bf9c"
      },
      "execution_count": 18,
      "outputs": [
        {
          "output_type": "execute_result",
          "data": {
            "text/plain": [
              "(torch.Size([1010, 28, 28]), torch.Size([1028, 28, 28]))"
            ]
          },
          "metadata": {},
          "execution_count": 18
        }
      ]
    },
    {
      "cell_type": "code",
      "source": [
        "def mnist_distance(a,b): return (a-b).abs().mean((-1,-2))\n",
        "mnist_distance(a_3, mean3)"
      ],
      "metadata": {
        "colab": {
          "base_uri": "https://localhost:8080/"
        },
        "id": "k9qd8hNs8MkI",
        "outputId": "11e41bbf-28c8-47e3-dcb5-4a2bfdfb90f7"
      },
      "execution_count": 24,
      "outputs": [
        {
          "output_type": "execute_result",
          "data": {
            "text/plain": [
              "tensor(0.1114)"
            ]
          },
          "metadata": {},
          "execution_count": 24
        }
      ]
    },
    {
      "cell_type": "code",
      "source": [
        "valid_0_dist = mnist_distance(valid_0_tens, mean0)\n",
        "valid_1_dist = mnist_distance(valid_1_tens, mean1)\n",
        "valid_2_dist = mnist_distance(valid_2_tens, mean2)\n",
        "valid_3_dist = mnist_distance(valid_3_tens, mean3)\n",
        "valid_4_dist = mnist_distance(valid_4_tens, mean4)\n",
        "valid_5_dist = mnist_distance(valid_5_tens, mean5)\n",
        "valid_6_dist = mnist_distance(valid_6_tens, mean6)\n",
        "valid_7_dist = mnist_distance(valid_7_tens, mean7)\n",
        "valid_8_dist = mnist_distance(valid_8_tens, mean8)\n",
        "valid_9_dist = mnist_distance(valid_9_tens, mean9)\n",
        "\n",
        "valid_9_tens.shape, mean9.shape"
      ],
      "metadata": {
        "colab": {
          "base_uri": "https://localhost:8080/"
        },
        "id": "SUA_Hz8q8TEx",
        "outputId": "91b4420c-db71-4fc9-a828-ddb665ae2c12"
      },
      "execution_count": 26,
      "outputs": [
        {
          "output_type": "execute_result",
          "data": {
            "text/plain": [
              "(torch.Size([1009, 28, 28]), torch.Size([28, 28]))"
            ]
          },
          "metadata": {},
          "execution_count": 26
        }
      ]
    },
    {
      "cell_type": "code",
      "source": [
        "def minim(x): \n",
        "  return min(\n",
        "    mnist_distance(x,mean0).mean(0),\n",
        "    mnist_distance(x,mean1).mean(0),\n",
        "    mnist_distance(x,mean2).mean(0),\n",
        "    mnist_distance(x,mean3).mean(0),\n",
        "    mnist_distance(x,mean4).mean(0),\n",
        "    mnist_distance(x,mean5).mean(0),\n",
        "    mnist_distance(x,mean6).mean(0),\n",
        "    mnist_distance(x,mean7).mean(0),\n",
        "    mnist_distance(x,mean8).mean(0),\n",
        "    mnist_distance(x,mean9).mean(0)\n",
        "    )\n",
        "\n",
        "def is_0(x): return minim(x) ==( mnist_distance(x,mean0).mean(0))\n",
        "def is_1(x): return minim(x) ==( mnist_distance(x,mean1).mean(0))\n",
        "def is_2(x): return minim(x) == (mnist_distance(x,mean2).mean(0))\n",
        "def is_3(x): return minim(x) == (mnist_distance(x,mean3).mean(0))\n",
        "def is_4(x): return minim(x) == (mnist_distance(x,mean4).mean(0))\n",
        "def is_5(x): return minim(x) == (mnist_distance(x,mean5).mean(0))\n",
        "def is_6(x): return minim(x) == (mnist_distance(x,mean6).mean(0))\n",
        "def is_7(x): return minim(x) == (mnist_distance(x,mean7).mean(0))\n",
        "def is_8(x): return minim(x) == (mnist_distance(x,mean8).mean(0))\n",
        "def is_9(x): return minim(x) == (mnist_distance(x,mean9).mean(0))"
      ],
      "metadata": {
        "id": "qvsmaagv8gdj"
      },
      "execution_count": 60,
      "outputs": []
    },
    {
      "cell_type": "code",
      "source": [
        "is_4(valid_4_tens) == tensor(True)"
      ],
      "metadata": {
        "colab": {
          "base_uri": "https://localhost:8080/"
        },
        "id": "FePMLI7c8rUr",
        "outputId": "c57aa657-5d3b-478a-fd6d-a7270844ef4d"
      },
      "execution_count": 75,
      "outputs": [
        {
          "output_type": "execute_result",
          "data": {
            "text/plain": [
              "tensor(True)"
            ]
          },
          "metadata": {},
          "execution_count": 75
        }
      ]
    },
    {
      "cell_type": "code",
      "source": [
        "def predict(x):\n",
        "  y = tensor(Image.open(x))\n",
        "  \n",
        "  if is_0(y) == tensor(True):\n",
        "    return 'Zero'\n",
        "  if is_1(y) == tensor(True):\n",
        "    return 'One'\n",
        "  if is_2(y) == tensor(True):\n",
        "    return 'Two'\n",
        "  if is_3(y) == tensor(True):\n",
        "    return 'Three'\n",
        "  if is_4(y) == tensor(True):\n",
        "    return 'Four'\n",
        "  if is_5(y) == tensor(True):\n",
        "    return 'Five'\n",
        "  if is_6(y) == tensor(True):\n",
        "    return 'Six'\n",
        "  if is_7(y) == tensor(True):\n",
        "    return 'Seven'\n",
        "  if is_8(y) == tensor(True):\n",
        "    return 'Eight'\n",
        "  if is_9(y) == tensor(True):\n",
        "    return 'Nine'"
      ],
      "metadata": {
        "id": "rX-BzW_d8wVm"
      },
      "execution_count": 97,
      "outputs": []
    },
    {
      "cell_type": "code",
      "source": [
        "predict(path/'testing'/'5'/'102.png')"
      ],
      "metadata": {
        "colab": {
          "base_uri": "https://localhost:8080/",
          "height": 35
        },
        "id": "mw4HNSfu1GxI",
        "outputId": "d3e013c7-fb1a-42f2-c8ac-c332fc1e49f7"
      },
      "execution_count": 99,
      "outputs": [
        {
          "output_type": "execute_result",
          "data": {
            "text/plain": [
              "'Five'"
            ],
            "application/vnd.google.colaboratory.intrinsic+json": {
              "type": "string"
            }
          },
          "metadata": {},
          "execution_count": 99
        }
      ]
    }
  ]
}